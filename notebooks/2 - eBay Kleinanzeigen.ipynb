{
 "cells": [
  {
   "cell_type": "markdown",
   "metadata": {
    "collapsed": true
   },
   "source": [
    "# eBay Kleinanzeigen Auto Project Overview\n",
    "In this guided project, we'll work with a dataset of used cars from eBay Kleinanzeigen, a classifieds section of the German eBay website.\n",
    "\n",
    "**The aim of this project is to clean the data and analyze the included used car listings.**\n",
    "    \n",
    "\n",
    "## Summary of Results"
   ]
  },
  {
   "cell_type": "markdown",
   "metadata": {},
   "source": [
    "# Environment Setup"
   ]
  },
  {
   "cell_type": "markdown",
   "metadata": {},
   "source": [
    "## Loading Dependencies"
   ]
  },
  {
   "cell_type": "code",
   "execution_count": 1,
   "metadata": {
    "ExecuteTime": {
     "end_time": "2019-08-07T19:27:59.397030Z",
     "start_time": "2019-08-07T19:27:59.036706Z"
    }
   },
   "outputs": [],
   "source": [
    "import pandas as pd\n",
    "import numpy as np\n",
    "import os\n",
    "import git\n",
    "import re\n",
    "\n",
    "from pathlib import Path\n",
    "\n",
    "pd.set_option('display.max_row', -1)"
   ]
  },
  {
   "cell_type": "markdown",
   "metadata": {},
   "source": [
    "## Importing our eBay Kleinanzeigen Auto Data\n",
    "The dataset was originally scraped and uploaded to [Kaggle](https://www.kaggle.com/orgesleka/used-cars-database/data), but we've already downloaded it and added it to our repository. You can find the file under ** in the `data` directory at the root of our repository.\n",
    "\n",
    "The data dictionary provided with data is as follows:\n",
    "\n",
    "- `dateCrawled` - When this ad was first crawled. All field-values are taken from this date.\n",
    "- `name` - Name of the car.\n",
    "- `seller` - Whether the seller is private or a dealer.\n",
    "- `offerType` - The type of listing\n",
    "- `price` - The price on the ad to sell the car.\n",
    "- `abtest` - Whether the listing is included in an A/B test.\n",
    "- `vehicleType` - The vehicle Type.\n",
    "- `yearOfRegistration` - The year in which the car was first registered.\n",
    "- `gearbox` - The transmission type.\n",
    "- `powerPS` - The power of the car in PS.\n",
    "- `model` - The car model name.\n",
    "- `kilometer` - How many kilometers the car has driven.\n",
    "- `monthOfRegistration` - The month in which the car was first registered.\n",
    "- `fuelType` - What type of fuel the car uses.\n",
    "- `brand` - The brand of the car.\n",
    "- `notRepairedDamage` - If the car has a damage which is not yet repaired.\n",
    "- `dateCreated` - The date on which the eBay listing was created.\n",
    "- `nrOfPictures` - The number of pictures in the ad.\n",
    "- `postalCode` - The postal code for the location of the vehicle.\n",
    "- `lastSeenOnline` - When the crawler saw this ad last online.\n",
    "\n",
    "Now that we have an overview of the data we'll be viewing, let's read in the dataset and see what it looks like!"
   ]
  },
  {
   "cell_type": "code",
   "execution_count": 2,
   "metadata": {
    "ExecuteTime": {
     "end_time": "2019-08-07T19:27:59.682931Z",
     "start_time": "2019-08-07T19:27:59.399335Z"
    },
    "scrolled": false
   },
   "outputs": [
    {
     "data": {
      "text/plain": [
       "(50000, 20)"
      ]
     },
     "metadata": {},
     "output_type": "display_data"
    },
    {
     "name": "stdout",
     "output_type": "stream",
     "text": [
      "<class 'pandas.core.frame.DataFrame'>\n",
      "RangeIndex: 50000 entries, 0 to 49999\n",
      "Data columns (total 20 columns):\n",
      "dateCrawled            50000 non-null object\n",
      "name                   50000 non-null object\n",
      "seller                 50000 non-null object\n",
      "offerType              50000 non-null object\n",
      "price                  50000 non-null object\n",
      "abtest                 50000 non-null object\n",
      "vehicleType            44905 non-null object\n",
      "yearOfRegistration     50000 non-null int64\n",
      "gearbox                47320 non-null object\n",
      "powerPS                50000 non-null int64\n",
      "model                  47242 non-null object\n",
      "odometer               50000 non-null object\n",
      "monthOfRegistration    50000 non-null int64\n",
      "fuelType               45518 non-null object\n",
      "brand                  50000 non-null object\n",
      "notRepairedDamage      40171 non-null object\n",
      "dateCreated            50000 non-null object\n",
      "nrOfPictures           50000 non-null int64\n",
      "postalCode             50000 non-null int64\n",
      "lastSeen               50000 non-null object\n",
      "dtypes: int64(5), object(15)\n",
      "memory usage: 7.6+ MB\n"
     ]
    },
    {
     "data": {
      "text/plain": [
       "None"
      ]
     },
     "metadata": {},
     "output_type": "display_data"
    },
    {
     "data": {
      "text/plain": [
       "                          0\n",
       "dateCrawled               0\n",
       "name                      0\n",
       "seller                    0\n",
       "offerType                 0\n",
       "price                     0\n",
       "abtest                 5095\n",
       "vehicleType               0\n",
       "yearOfRegistration     2680\n",
       "gearbox                   0\n",
       "powerPS                2758\n",
       "model                     0\n",
       "odometer                  0\n",
       "monthOfRegistration    4482\n",
       "fuelType                  0\n",
       "brand                  9829\n",
       "notRepairedDamage         0\n",
       "dateCreated               0\n",
       "nrOfPictures              0\n",
       "postalCode                0\n",
       "name                      0\n",
       "seller                    0\n",
       "offerType                 0\n",
       "price                     0\n",
       "abtest                 5095\n",
       "vehicleType               0\n",
       "yearOfRegistration     2680\n",
       "gearbox                   0\n",
       "powerPS                2758\n",
       "model                     0\n",
       "odometer                  0\n",
       "monthOfRegistration    4482\n",
       "fuelType                  0\n",
       "brand                  9829\n",
       "notRepairedDamage         0\n",
       "dateCreated               0\n",
       "nrOfPictures              0\n",
       "postalCode             ... \n",
       "lastSeen                  0\n",
       "Length: 20, dtype: int64"
      ]
     },
     "metadata": {},
     "output_type": "display_data"
    }
   ],
   "source": [
    "# Read in the data\n",
    "repo_root = Path(git.Repo(os.getcwd(), search_parent_directories=True).git.rev_parse(\"--show-toplevel\"))\n",
    "file_name = 'autos.csv'\n",
    "file_path = f'{repo_root}/data/{file_name}'\n",
    "autos = pd.read_csv(file_path, encoding='Latin-1', low_memory=False)\n",
    "\n",
    "# Quick exploration of the data\n",
    "display(autos.shape)\n",
    "display(autos.info())\n",
    "display(autos.isnull().sum())"
   ]
  },
  {
   "cell_type": "markdown",
   "metadata": {},
   "source": [
    "# Data Cleaning & Imputation\n",
    "As we can see from the above, there are a few data points that need cleaned up and imputated. Let's get started with addressing that.\n",
    "\n",
    "## Column Headers\n",
    "The column names are camel case and they fail to adhere to the general syntax (one_two > oneTwo). Hence, us needing to clean that up."
   ]
  },
  {
   "cell_type": "code",
   "execution_count": 3,
   "metadata": {
    "ExecuteTime": {
     "end_time": "2019-08-07T19:27:59.687828Z",
     "start_time": "2019-08-07T19:27:59.685068Z"
    }
   },
   "outputs": [],
   "source": [
    "# Function to help us easily clean up our columns\n",
    "def clean_col_headers(col):\n",
    "    # Adding a '_' between camel case col and lowercasing it\n",
    "    return re.sub(r\"(\\w)([A-Z])\", r\"\\1_\\2\", col).lower()"
   ]
  },
  {
   "cell_type": "code",
   "execution_count": 4,
   "metadata": {
    "ExecuteTime": {
     "end_time": "2019-08-07T19:27:59.701047Z",
     "start_time": "2019-08-07T19:27:59.689794Z"
    }
   },
   "outputs": [
    {
     "data": {
      "text/plain": [
       "Index(['date_crawled', 'name', 'seller', 'offer_type', 'price', 'abtest',\n",
       "       'vehicle_type', 'year_of_registration', 'gearbox', 'power_ps', 'model',\n",
       "       'odometer', 'month_of_registration', 'fuel_type', 'brand',\n",
       "       'not_repaired_damage', 'date_created', 'nr_of_pictures', 'postal_code',\n",
       "       'last_seen'],\n",
       "      dtype='object')"
      ]
     },
     "execution_count": 4,
     "metadata": {},
     "output_type": "execute_result"
    }
   ],
   "source": [
    "# Creating a copy of our dataframe\n",
    "autos_use = autos.copy()\n",
    "\n",
    "# Cleaning up our columns\n",
    "autos_use.columns = [clean_col_headers(col) for col in autos_use.columns]\n",
    "\n",
    "# Viewing our cleaned up columns\n",
    "autos_use.columns"
   ]
  },
  {
   "cell_type": "markdown",
   "metadata": {},
   "source": [
    "## Converting `price` & `odometer`\n",
    "The `price` and `odometer` columns are currently represented as strings, but in order to calculate any artithmetic operations, we'll need to convert them to numeric values."
   ]
  },
  {
   "cell_type": "code",
   "execution_count": 5,
   "metadata": {
    "ExecuteTime": {
     "end_time": "2019-08-07T19:27:59.708196Z",
     "start_time": "2019-08-07T19:27:59.702429Z"
    }
   },
   "outputs": [],
   "source": [
    "# Taking a peak at these columns\n",
    "autos_use[['price', 'odometer']].head(25)\n",
    "\n",
    "\n",
    "# Removes string characters from rows in a column\n",
    "def remove_string_characters(df, col='price', strings_to_replace=['$', ',', 'km']):\n",
    "    for char in strings_to_replace:\n",
    "        df[col] = df[col].str.replace(char,\"\")\n",
    "    return df"
   ]
  },
  {
   "cell_type": "markdown",
   "metadata": {},
   "source": [
    "### `price`\n",
    "`price` currently contains values such as `$` and the comma delimiter. Let's look to remove this from the column in order to convert to numeric values."
   ]
  },
  {
   "cell_type": "code",
   "execution_count": 6,
   "metadata": {
    "ExecuteTime": {
     "end_time": "2019-08-07T19:27:59.791307Z",
     "start_time": "2019-08-07T19:27:59.710057Z"
    }
   },
   "outputs": [],
   "source": [
    "# Removing string characters from the price column\n",
    "autos_use = remove_string_characters(autos_use, 'price')\n",
    "\n",
    "# Converting price to a numeric value\n",
    "autos_use.price = autos_use.price.astype(float)"
   ]
  },
  {
   "cell_type": "code",
   "execution_count": 7,
   "metadata": {
    "ExecuteTime": {
     "end_time": "2019-08-07T19:27:59.820773Z",
     "start_time": "2019-08-07T19:27:59.793191Z"
    }
   },
   "outputs": [
    {
     "name": "stdout",
     "output_type": "stream",
     "text": [
      "Data Shape:\n"
     ]
    },
    {
     "data": {
      "text/plain": [
       "(2357,)"
      ]
     },
     "metadata": {},
     "output_type": "display_data"
    },
    {
     "name": "stdout",
     "output_type": "stream",
     "text": [
      "Data Descriptives:\n"
     ]
    },
    {
     "data": {
      "text/plain": [
       "            50000.00\n",
       "count        9840.04\n",
       "mean       481104.38\n",
       "std             0.00\n",
       "min          1100.00\n",
       "25%          2950.00\n",
       "50%          7200.00\n",
       "75%          9840.04\n",
       "mean       481104.38\n",
       "std             0.00\n",
       "min          1100.00\n",
       "25%          2950.00\n",
       "50%          7200.00\n",
       "75%         ...     \n",
       "max      99999999.00\n",
       "Name: price, Length: 8, dtype: float64"
      ]
     },
     "metadata": {},
     "output_type": "display_data"
    },
    {
     "name": "stdout",
     "output_type": "stream",
     "text": [
      "Ascending Odometer Values:\n"
     ]
    },
    {
     "data": {
      "text/plain": [
       "        1421\n",
       "0.0      156\n",
       "1.0        3\n",
       "2.0        1\n",
       "3.0        2\n",
       "5.0        1\n",
       "8.0        1\n",
       "9.0        7\n",
       "10.0       2\n",
       "11.0     156\n",
       "1.0        3\n",
       "2.0        1\n",
       "3.0        2\n",
       "5.0        1\n",
       "8.0        1\n",
       "9.0        7\n",
       "10.0       2\n",
       "11.0    ... \n",
       "12.0       3\n",
       "Name: price, Length: 10, dtype: int64"
      ]
     },
     "metadata": {},
     "output_type": "display_data"
    },
    {
     "name": "stdout",
     "output_type": "stream",
     "text": [
      "Descending Odometer Values:\n"
     ]
    },
    {
     "data": {
      "text/plain": [
       "              1\n",
       "99999999.0    1\n",
       "27322222.0    3\n",
       "12345678.0    2\n",
       "11111111.0    1\n",
       "10000000.0    1\n",
       "3890000.0     1\n",
       "1300000.0     1\n",
       "1234566.0     2\n",
       "999999.0      1\n",
       "27322222.0    3\n",
       "12345678.0    2\n",
       "11111111.0    1\n",
       "10000000.0    1\n",
       "3890000.0     1\n",
       "1300000.0     1\n",
       "1234566.0     2\n",
       "999999.0     ..\n",
       "999990.0      1\n",
       "Name: price, Length: 10, dtype: int64"
      ]
     },
     "metadata": {},
     "output_type": "display_data"
    }
   ],
   "source": [
    "# Quick exploration of the data\n",
    "print('Data Shape:')\n",
    "display(autos_use.price.unique().shape)\n",
    "print('Data Descriptives:')\n",
    "display(autos_use.price.describe().round(2))\n",
    "print('Ascending Odometer Values:')\n",
    "display(autos_use.price.value_counts().sort_index().head(10))\n",
    "print('Descending Odometer Values:')\n",
    "display(autos_use.price.value_counts().sort_index(ascending=False).head(10))"
   ]
  },
  {
   "cell_type": "markdown",
   "metadata": {},
   "source": [
    "### `odometer`\n",
    "Similar to `price`, the values in the odometer column contain string characters. Let's go ahead and remove them!"
   ]
  },
  {
   "cell_type": "code",
   "execution_count": 8,
   "metadata": {
    "ExecuteTime": {
     "end_time": "2019-08-07T19:27:59.915033Z",
     "start_time": "2019-08-07T19:27:59.822682Z"
    }
   },
   "outputs": [],
   "source": [
    "# Removing string characters from the odometer column\n",
    "autos_use = remove_string_characters(autos_use, 'odometer')\n",
    "\n",
    "# Converting odometer to a numeric value\n",
    "autos_use.odometer = autos_use.odometer.astype(float)\n",
    "\n",
    "# Renaming the odometer column to odometer_km\n",
    "autos_use.rename({'odometer':'odometer_km'}, axis=1, inplace=True)"
   ]
  },
  {
   "cell_type": "code",
   "execution_count": 9,
   "metadata": {
    "ExecuteTime": {
     "end_time": "2019-08-07T19:27:59.937125Z",
     "start_time": "2019-08-07T19:27:59.916390Z"
    }
   },
   "outputs": [
    {
     "name": "stdout",
     "output_type": "stream",
     "text": [
      "Data Shape:\n"
     ]
    },
    {
     "data": {
      "text/plain": [
       "(13,)"
      ]
     },
     "metadata": {},
     "output_type": "display_data"
    },
    {
     "name": "stdout",
     "output_type": "stream",
     "text": [
      "Data Descriptives:\n"
     ]
    },
    {
     "data": {
      "text/plain": [
       "          50000.00\n",
       "count    125732.70\n",
       "mean      40042.21\n",
       "std        5000.00\n",
       "min      125000.00\n",
       "25%      150000.00\n",
       "50%      150000.00\n",
       "75%      125732.70\n",
       "mean      40042.21\n",
       "std        5000.00\n",
       "min      125000.00\n",
       "25%      150000.00\n",
       "50%      150000.00\n",
       "75%        ...    \n",
       "max      150000.00\n",
       "Name: odometer_km, Length: 8, dtype: float64"
      ]
     },
     "metadata": {},
     "output_type": "display_data"
    },
    {
     "name": "stdout",
     "output_type": "stream",
     "text": [
      "Ascending Odometer Values:\n"
     ]
    },
    {
     "data": {
      "text/plain": [
       "            967\n",
       "5000.0      264\n",
       "10000.0     784\n",
       "20000.0     789\n",
       "30000.0     819\n",
       "40000.0    1027\n",
       "50000.0    1164\n",
       "60000.0    1230\n",
       "70000.0    1436\n",
       "80000.0     264\n",
       "10000.0     784\n",
       "20000.0     789\n",
       "30000.0     819\n",
       "40000.0    1027\n",
       "50000.0    1164\n",
       "60000.0    1230\n",
       "70000.0    1436\n",
       "80000.0    ... \n",
       "90000.0    1757\n",
       "Name: odometer_km, Length: 10, dtype: int64"
      ]
     },
     "metadata": {},
     "output_type": "display_data"
    },
    {
     "name": "stdout",
     "output_type": "stream",
     "text": [
      "Descending Odometer Values:\n"
     ]
    },
    {
     "data": {
      "text/plain": [
       "            32424\n",
       "150000.0     5170\n",
       "125000.0     2169\n",
       "100000.0     1757\n",
       "90000.0      1436\n",
       "80000.0      1230\n",
       "70000.0      1164\n",
       "60000.0      1027\n",
       "50000.0       819\n",
       "40000.0      5170\n",
       "125000.0     2169\n",
       "100000.0     1757\n",
       "90000.0      1436\n",
       "80000.0      1230\n",
       "70000.0      1164\n",
       "60000.0      1027\n",
       "50000.0       819\n",
       "40000.0     ...  \n",
       "30000.0       789\n",
       "Name: odometer_km, Length: 10, dtype: int64"
      ]
     },
     "metadata": {},
     "output_type": "display_data"
    }
   ],
   "source": [
    "# Quick exploration of the data\n",
    "print('Data Shape:')\n",
    "display(autos_use.odometer_km.unique().shape)\n",
    "print('Data Descriptives:')\n",
    "display(autos_use.odometer_km.describe().round(2))\n",
    "print('Ascending Odometer Values:')\n",
    "display(autos_use.odometer_km.value_counts().sort_index().head(10))\n",
    "print('Descending Odometer Values:')\n",
    "display(autos_use.odometer_km.value_counts().sort_index(ascending=False).head(10))"
   ]
  },
  {
   "cell_type": "markdown",
   "metadata": {},
   "source": [
    "# Future Consideration\n",
    "In this project, we practiced applying a variety of pandas methods to explore and understand a data set on car listings. Here are some next steps for you to consider:\n",
    "\n",
    "Data cleaning next steps:\n",
    "\n",
    "- Identify categorical data that uses german words, translate them and map the values to their english counterparts\n",
    "- Convert the dates to be uniform numeric data, so \"2016-03-21\" becomes the integer `20160321`.\n",
    "- See if there are particular keywords in the name column that you can extract as new columns\n",
    "\n",
    "Analysis next steps:\n",
    "\n",
    "- Find the most common brand/model combinations\n",
    "- Split the odometer_km into groups, and use aggregation to see if average prices follows any patterns based on the milage.\n",
    "- How much cheaper are cars with damage than their non-damaged counterparts?"
   ]
  }
 ],
 "metadata": {
  "hide_input": false,
  "kernelspec": {
   "display_name": "Python 3",
   "language": "python",
   "name": "python3"
  },
  "language_info": {
   "codemirror_mode": {
    "name": "ipython",
    "version": 3
   },
   "file_extension": ".py",
   "mimetype": "text/x-python",
   "name": "python",
   "nbconvert_exporter": "python",
   "pygments_lexer": "ipython3",
   "version": "3.7.3"
  },
  "toc": {
   "base_numbering": 1,
   "nav_menu": {
    "height": "280px",
    "width": "328px"
   },
   "number_sections": true,
   "sideBar": true,
   "skip_h1_title": false,
   "title_cell": "Table of Contents",
   "title_sidebar": "Contents",
   "toc_cell": false,
   "toc_position": {
    "height": "calc(100% - 180px)",
    "left": "10px",
    "top": "150px",
    "width": "336px"
   },
   "toc_section_display": true,
   "toc_window_display": true
  }
 },
 "nbformat": 4,
 "nbformat_minor": 2
}
