{
 "cells": [
  {
   "cell_type": "markdown",
   "metadata": {
    "collapsed": true
   },
   "source": [
    "# Hacker News Project Overview\n",
    "Hacker News is a site started by the startup incubator Y Combinator, where user-submitted stories (known as \"posts\") are voted and commented upon, similar to reddit. Hacker News is extremely popular in technology and startup circles, and posts that make it to the top of Hacker News' listings can get hundreds of thousands of visitors as a result.\n",
    "\n",
    "**For this projet, we're interested in figuring out what type of posts (`Ask HN`, `Show HN`) to create in order to generate the most comments, pushing our posts to the top of the stack**\n",
    "    \n",
    "`Ask HN` posts pose specific question to the Hacker News community. Below are a couple examples:\n",
    "```\n",
    "Ask HN: How to improve my personal website?\n",
    "Ask HN: Am I the only one outraged by Twitter shutting down share counts?\n",
    "Ask HN: Aby recent changes to CSS that broke mobile?\n",
    "```\n",
    "Likewise, users submit `Show HN` posts to show the Hacker News community a project, product, or something interesting. Below are a couple of examples:\n",
    "\n",
    "```\n",
    "Show HN: Wio Link  ESP8266 Based Web of Things Hardware Development Platform'\n",
    "Show HN: Something pointless I made\n",
    "Show HN: Shanhu.io, a programming playground powered by e8vm\n",
    "```\n",
    "\n",
    "## Summary of Results\n",
    "After analyzing the data, we concluded that users should post **`Ask Posts`** during the **3 o'clock afternoon hour**. This proves to produce the most comments per post and could lead to users increasing post visibility on Hacker News. The top five times to post follow:\n",
    "\n",
    "|Rank|Hour to Post|Avg Comments per Post|\n",
    "|----|------------|---------------------|\n",
    "|1   |3pm         |38.59                |\n",
    "|2   |2am         |23.81                |\n",
    "|3   |8pm         |21.52                |\n",
    "|4   |4pm         |16.80                |\n",
    "|5   |9pm         |16.01                |\n",
    "\n",
    "For more details, please refer to the the full analysis below."
   ]
  },
  {
   "cell_type": "markdown",
   "metadata": {},
   "source": [
    "# Environment Setup"
   ]
  },
  {
   "cell_type": "markdown",
   "metadata": {},
   "source": [
    "## Loading Dependencies"
   ]
  },
  {
   "cell_type": "code",
   "execution_count": 1,
   "metadata": {
    "ExecuteTime": {
     "end_time": "2019-07-26T15:03:43.015749Z",
     "start_time": "2019-07-26T15:03:42.967414Z"
    }
   },
   "outputs": [],
   "source": [
    "import os\n",
    "import git\n",
    "import datetime as dt\n",
    "\n",
    "\n",
    "from csv import reader\n",
    "from pathlib import Path"
   ]
  },
  {
   "cell_type": "markdown",
   "metadata": {},
   "source": [
    "## Importing our Hacker News Data\n",
    "The data is publicly available on [Kaggle](https://www.kaggle.com/hacker-news/hacker-news-posts), but we've already downloaded it and added it to our repository. Below, we'll do a quick exploration of the *hacker_news.csv* file stored in the `data` directory at the root of our repository."
   ]
  },
  {
   "cell_type": "code",
   "execution_count": 2,
   "metadata": {
    "ExecuteTime": {
     "end_time": "2019-07-26T15:03:43.161506Z",
     "start_time": "2019-07-26T15:03:43.018876Z"
    },
    "scrolled": true
   },
   "outputs": [
    {
     "name": "stdout",
     "output_type": "stream",
     "text": [
      "['id', 'title', 'url', 'num_points', 'num_comments', 'author', 'created_at']\n",
      "\n",
      "[['12224879', 'Interactive Dynamic Video', 'http://www.interactivedynamicvideo.com/', '386', '52', 'ne0phyte', '8/4/2016 11:52'], ['10975351', 'How to Use Open Source and Shut the Fuck Up at the Same Time', 'http://hueniverse.com/2016/01/26/how-to-use-open-source-and-shut-the-fuck-up-at-the-same-time/', '39', '10', 'josep2', '1/26/2016 19:30'], ['11964716', \"Florida DJs May Face Felony for April Fools' Water Joke\", 'http://www.thewire.com/entertainment/2013/04/florida-djs-april-fools-water-joke/63798/', '2', '1', 'vezycash', '6/23/2016 22:20'], ['11919867', 'Technology ventures: From Idea to Enterprise', 'https://www.amazon.com/Technology-Ventures-Enterprise-Thomas-Byers/dp/0073523429', '3', '1', 'hswarna', '6/17/2016 0:01'], ['10301696', 'Note by Note: The Making of Steinway L1037 (2007)', 'http://www.nytimes.com/2007/11/07/movies/07stein.html?_r=0', '8', '2', 'walterbell', '9/30/2015 4:12']]\n"
     ]
    }
   ],
   "source": [
    "# Read in the data\n",
    "repo_root = Path(git.Repo(os.getcwd(), search_parent_directories=True).git.rev_parse(\"--show-toplevel\"))\n",
    "file_name = 'hacker_news.csv'\n",
    "file_path = f'{repo_root}/data/{file_name}'\n",
    "headers = list(reader(open(file_path)))[0]\n",
    "hn = list(reader(open(file_path)))[1:]\n",
    "\n",
    "# Quick exploration of the data\n",
    "print(headers)\n",
    "print()\n",
    "print(hn[:5])"
   ]
  },
  {
   "cell_type": "markdown",
   "metadata": {},
   "source": [
    "# Filtering by Article Title\n",
    "Since we're only concerned with post titles beginning with `Ask HN` or `Show HN`, we'll create new lists of lists containing the data for those titles."
   ]
  },
  {
   "cell_type": "code",
   "execution_count": 3,
   "metadata": {
    "ExecuteTime": {
     "end_time": "2019-07-26T15:03:43.168446Z",
     "start_time": "2019-07-26T15:03:43.163276Z"
    }
   },
   "outputs": [],
   "source": [
    "def title_starts_with(article_list, words):\n",
    "    \"\"\"Takes a list of articles and a string of words and \n",
    "        returns a list of articles whose title starts with those words\n",
    "    \n",
    "    Keyword arguments:\n",
    "    article_list -- list of articles\n",
    "    words -- string of words the title should start with (i.e 'apple pie')\n",
    "    \"\"\"\n",
    "    word_cases = (words, words.lower(), words.upper(), words.title())\n",
    "    return [row for row in article_list if row[1].startswith(word_cases)]\n",
    "\n",
    "\n",
    "def title_does_not_start_with(article_list, words):\n",
    "    \"\"\"Takes a list of articles and a list of words and \n",
    "        returns a list of articles whose title does not start with those words\n",
    "    \n",
    "    Keyword arguments:\n",
    "    article_list -- list of articles\n",
    "    words -- a list of words the title should not start with (i.e ['apple', 'pie', 'tarti'])\n",
    "    \"\"\"    \n",
    "    word_cases = ()\n",
    "    for word in words:\n",
    "        word_cases += (word, word.lower(), word.upper(), word.title())\n",
    "    return [row for row in article_list if not row[1].startswith(word_cases)]"
   ]
  },
  {
   "cell_type": "code",
   "execution_count": 4,
   "metadata": {
    "ExecuteTime": {
     "end_time": "2019-07-26T15:03:43.172698Z",
     "start_time": "2019-07-26T15:03:43.169909Z"
    }
   },
   "outputs": [],
   "source": [
    "def get_posts_by_title(article_list, words, starts_with=True):\n",
    "    \"\"\"Takes a list of articles, a string or list of words, and a flag that\n",
    "        returns a list of articles whose title does or does not start with those words\n",
    "    \n",
    "    Keyword arguments:\n",
    "    article_list -- list of articles\n",
    "    words -- string of words the title should start with (i.e 'apple pie')\n",
    "    starts_with -- a flag to indicate whether to return posts that start, doesn't start, with those words\n",
    "    \"\"\"\n",
    "    return title_starts_with(article_list, words) if starts_with else title_does_not_start_with(article_list, words)"
   ]
  },
  {
   "cell_type": "code",
   "execution_count": 5,
   "metadata": {
    "ExecuteTime": {
     "end_time": "2019-07-26T15:03:43.192556Z",
     "start_time": "2019-07-26T15:03:43.174085Z"
    },
    "scrolled": true
   },
   "outputs": [
    {
     "name": "stdout",
     "output_type": "stream",
     "text": [
      "ask_posts posts: 1,744\n",
      "show_posts posts: 1,162\n",
      "other_posts posts: 17,194\n"
     ]
    }
   ],
   "source": [
    "# Storing our list of articles by post type\n",
    "posts = {\n",
    "    'ask_posts': get_posts_by_title(hn, 'Ask HN'),\n",
    "    'show_posts': get_posts_by_title(hn, 'Show HN'),\n",
    "    'other_posts': get_posts_by_title(hn, ['Ask HN', 'Show HN'], starts_with=False)\n",
    "}\n",
    "\n",
    "\n",
    "# Quick exploration of each Post type\n",
    "print(\"ask_posts posts: {:,}\".format(len(posts['ask_posts'])))\n",
    "print(\"show_posts posts: {:,}\".format(len(posts['show_posts'])))\n",
    "print(\"other_posts posts: {:,}\".format(len(posts['other_posts'])))"
   ]
  },
  {
   "cell_type": "markdown",
   "metadata": {},
   "source": [
    "To assure us that we split out the titles correctly, we can compare the lengths of **hn** to the data within **posts**. If the two are equal, than we can proceed with the understanding that we filtered correctly. If they aren't equal, than the code below will throw an error and we conclude that something went wrong during our filtering process!"
   ]
  },
  {
   "cell_type": "code",
   "execution_count": 6,
   "metadata": {
    "ExecuteTime": {
     "end_time": "2019-07-26T15:03:43.196913Z",
     "start_time": "2019-07-26T15:03:43.193864Z"
    }
   },
   "outputs": [],
   "source": [
    "# Quick sanity check\n",
    "total_articles = len(hn)\n",
    "total_articles_from_posts = len(posts['ask_posts']) + len(posts['show_posts']) + len(posts['other_posts'])\n",
    "assert total_articles == total_articles_from_posts"
   ]
  },
  {
   "cell_type": "markdown",
   "metadata": {},
   "source": [
    "# Our Questions\n",
    "Now that we have the data in the format to get started, let's go ahead and answer our questions.\n",
    "\n",
    "## Which Posts Type Receive More Comments (AVG)?"
   ]
  },
  {
   "cell_type": "code",
   "execution_count": 7,
   "metadata": {
    "ExecuteTime": {
     "end_time": "2019-07-26T15:03:43.204350Z",
     "start_time": "2019-07-26T15:03:43.200254Z"
    }
   },
   "outputs": [],
   "source": [
    "def total_comments(post_type):\n",
    "    \"\"\"Takes a list of articles\n",
    "        returns the total comments\n",
    "    \n",
    "    Keyword arguments:\n",
    "    post_type -- list of articles by post type\n",
    "    \"\"\"\n",
    "    total_ask_comments = 0\n",
    "    for row in post_type:\n",
    "        total_ask_comments += int(row[4])\n",
    "    return total_ask_comments\n",
    "\n",
    "\n",
    "def avg_comments(total_comments, post_type):\n",
    "    \"\"\"Takes the total comments and list of articles\n",
    "        returns the average comments per post\n",
    "    \n",
    "    Keyword arguments:\n",
    "    total_comments -- total comments by post type\n",
    "    post_type -- list of articles by post type\n",
    "    \"\"\"    \n",
    "    return round(total_comments / len(post_type))"
   ]
  },
  {
   "cell_type": "code",
   "execution_count": 8,
   "metadata": {
    "ExecuteTime": {
     "end_time": "2019-07-26T15:03:43.210470Z",
     "start_time": "2019-07-26T15:03:43.206220Z"
    }
   },
   "outputs": [
    {
     "name": "stdout",
     "output_type": "stream",
     "text": [
      "Total Comments (Ask Posts): 24,483\n",
      "Average Comments (per Ask Post): 14\n"
     ]
    }
   ],
   "source": [
    "# Calculate stats for ask posts\n",
    "total_ask_comments = total_comments(posts['ask_posts'])\n",
    "avg_ask_comments = avg_comments(total_ask_comments, posts['ask_posts'])\n",
    "\n",
    "\n",
    "print(\"Total Comments (Ask Posts): {:,}\".format(total_ask_comments))\n",
    "print(\"Average Comments (per Ask Post): {:,}\".format(avg_ask_comments))"
   ]
  },
  {
   "cell_type": "code",
   "execution_count": 9,
   "metadata": {
    "ExecuteTime": {
     "end_time": "2019-07-26T15:03:43.216241Z",
     "start_time": "2019-07-26T15:03:43.212081Z"
    }
   },
   "outputs": [
    {
     "name": "stdout",
     "output_type": "stream",
     "text": [
      "Total Comments (Show Posts): 11,988\n",
      "Average Comments (per Show Post): 10\n"
     ]
    }
   ],
   "source": [
    "# Calculate stats for show posts\n",
    "total_show_comments = total_comments(posts['show_posts'])\n",
    "avg_show_comments = avg_comments(total_show_comments, posts['show_posts'])\n",
    "\n",
    "\n",
    "print(\"Total Comments (Show Posts): {:,}\".format(total_show_comments))\n",
    "print(\"Average Comments (per Show Post): {:,}\".format(avg_show_comments))"
   ]
  },
  {
   "cell_type": "markdown",
   "metadata": {},
   "source": [
    "### Conclusion\n",
    "As we can see from the above, `Ask Posts` receive more posts on average than `Show Posts`. For this reason, we'll continue exclusively focusing on `Ask Posts`. Onto the next question!"
   ]
  },
  {
   "cell_type": "markdown",
   "metadata": {},
   "source": [
    "## Do posts created at a certain hour receive more comments?\n",
    "Now let's determine if `Ask Posts` created at certain times influence the number of comments posted."
   ]
  },
  {
   "cell_type": "code",
   "execution_count": 10,
   "metadata": {
    "ExecuteTime": {
     "end_time": "2019-07-26T15:03:43.221471Z",
     "start_time": "2019-07-26T15:03:43.217792Z"
    }
   },
   "outputs": [],
   "source": [
    "def append_hour_to_posts(article_list):\n",
    "    \"\"\"Takes a list of articles\n",
    "        appends the hour and returns the list\n",
    "    \n",
    "    Keyword arguments:\n",
    "    article_list -- list of articles\n",
    "    \"\"\"\n",
    "    for post in article_list:\n",
    "        post[6] = dt.datetime.strptime(post[6], \"%m/%d/%Y %H:%M\")\n",
    "        post.append(post[6].hour)\n",
    "    return article_list"
   ]
  },
  {
   "cell_type": "code",
   "execution_count": 11,
   "metadata": {
    "ExecuteTime": {
     "end_time": "2019-07-26T15:03:43.229560Z",
     "start_time": "2019-07-26T15:03:43.223246Z"
    }
   },
   "outputs": [],
   "source": [
    "def get_post_by_hour(article_list):\n",
    "    \"\"\"Takes a list of articles\n",
    "        returns a dictionary of hours:posts per hour\n",
    "    \n",
    "    Keyword arguments:\n",
    "    article_list -- list of articles\n",
    "    \"\"\"    \n",
    "    posts_by = {}\n",
    "    for post in article_list:\n",
    "        posts_by[post[7]] = 1 if post[7] not in posts_by else posts_by[post[7]] + 1\n",
    "    return posts_by\n",
    "\n",
    "\n",
    "def get_posts_by_comments(article_list):\n",
    "    \"\"\"Takes a list of articles\n",
    "        returns a dictionary of hours:comments per hour\n",
    "    \n",
    "    Keyword arguments:\n",
    "    article_list -- list of articles\n",
    "    \"\"\"    \n",
    "    posts_by = {}\n",
    "    for post in article_list:\n",
    "        posts_by[post[7]] = int(post[4]) if post[7] not in posts_by else posts_by[post[7]] + int(post[4])\n",
    "    return posts_by\n",
    "\n",
    "\n",
    "def get_posts_by(article_list, get_posts_by='hour'):\n",
    "    \"\"\"Takes a list of articles, and a get_posts_by string\n",
    "        returns a dictionary of hours:posts per hour or comments per hour\n",
    "    \n",
    "    Keyword arguments:\n",
    "    article_list -- list of articles\n",
    "    get_posts_by -- a flag to indicate whether to return posts per hour or comments per hour\n",
    "    \"\"\"    \n",
    "    if get_posts_by == 'hour':\n",
    "        posts_by = get_post_by_hour(article_list)\n",
    "    elif get_posts_by == 'comments':\n",
    "        posts_by = get_posts_by_comments(article_list)\n",
    "    else:\n",
    "        print(\"You can either get posts by 'hour' or by 'comments'\")\n",
    "    return posts_by"
   ]
  },
  {
   "cell_type": "code",
   "execution_count": 12,
   "metadata": {
    "ExecuteTime": {
     "end_time": "2019-07-26T15:03:43.255776Z",
     "start_time": "2019-07-26T15:03:43.231408Z"
    }
   },
   "outputs": [],
   "source": [
    "# Appending the hour of post creation to the ask posts list\n",
    "posts['ask_posts'] = append_hour_to_posts(posts['ask_posts'])\n",
    "\n",
    "# Storing our posts by hour and comments in a dictionary\n",
    "posts_by = {\n",
    "    'hour': get_posts_by(posts['ask_posts']),\n",
    "    'comments': get_posts_by(posts['ask_posts'], 'comments'),\n",
    "}"
   ]
  },
  {
   "cell_type": "code",
   "execution_count": 13,
   "metadata": {
    "ExecuteTime": {
     "end_time": "2019-07-26T15:03:43.260746Z",
     "start_time": "2019-07-26T15:03:43.257133Z"
    }
   },
   "outputs": [],
   "source": [
    "def get_avg_comment_per_post_by_hour(posts_by_comments, posts_by_hour):\n",
    "    \"\"\"Takes a list of articles, and a get_posts_by string\n",
    "        returns a dictionary of hours:posts per hour or comments per hour\n",
    "    \n",
    "    Keyword arguments:\n",
    "    posts_by_comments -- list of articles\n",
    "    posts_by_hour -- a flag to indicate whether to return posts per hour or comments per hour\n",
    "    \"\"\"    \n",
    "    avg_comments_per_post_by_hour = []\n",
    "    for hour, comment_count in posts_by_comments.items():\n",
    "        avg_comments_per_post_by_hour.append(\n",
    "            [hour, comment_count / posts_by_hour[hour]]\n",
    "        )\n",
    "    return sorted(avg_comments_per_post_by_hour, key=lambda x: x[1], reverse=True)"
   ]
  },
  {
   "cell_type": "code",
   "execution_count": 14,
   "metadata": {
    "ExecuteTime": {
     "end_time": "2019-07-26T15:03:43.264654Z",
     "start_time": "2019-07-26T15:03:43.262192Z"
    }
   },
   "outputs": [],
   "source": [
    "# Getting the average comments per post per hour\n",
    "avg_comment_per_post_by_hour = get_avg_comment_per_post_by_hour(\n",
    "    posts_by['comments'], posts_by['hour']\n",
    ")\n",
    "\n",
    "# Getting the top 5 times to post\n",
    "top_five_avg_comment_per_post_by_hour = avg_comment_per_post_by_hour[:5]"
   ]
  },
  {
   "cell_type": "markdown",
   "metadata": {},
   "source": [
    "### Conclusion"
   ]
  },
  {
   "cell_type": "code",
   "execution_count": 15,
   "metadata": {
    "ExecuteTime": {
     "end_time": "2019-07-26T15:03:43.269696Z",
     "start_time": "2019-07-26T15:03:43.266078Z"
    }
   },
   "outputs": [
    {
     "name": "stdout",
     "output_type": "stream",
     "text": [
      "Top 5 Best Times to Post on Hacker News:\n",
      "\n",
      "Time\n",
      "15:00 (38.59 comments per post)\n",
      "\n",
      "Time\n",
      "2:00 (23.81 comments per post)\n",
      "\n",
      "Time\n",
      "20:00 (21.52 comments per post)\n",
      "\n",
      "Time\n",
      "16:00 (16.80 comments per post)\n",
      "\n",
      "Time\n",
      "21:00 (16.01 comments per post)\n",
      "\n"
     ]
    }
   ],
   "source": [
    "# Printing our conclusion\n",
    "print(\"Top 5 Best Times to Post on Hacker News:\\n\")\n",
    "for hour, avg_com in top_five_avg_comment_per_post_by_hour:\n",
    "    print(\"Time\\n{h}:00 ({a:,.2f} comments per post)\\n\".format(h=hour,a=avg_com))"
   ]
  },
  {
   "cell_type": "markdown",
   "metadata": {},
   "source": [
    "# Future Consideration\n",
    "Here are some next steps for you to consider:\n",
    "\n",
    "- Determine if `show` or `ask` posts receive more points on average.\n",
    "\n",
    "- Determine if `posts` created at a certain time are more likely to receive more points.\n",
    "\n",
    "- Compare your results to the average number of comments and points other `posts` receive."
   ]
  }
 ],
 "metadata": {
  "hide_input": false,
  "kernelspec": {
   "display_name": "Python 3",
   "language": "python",
   "name": "python3"
  },
  "language_info": {
   "codemirror_mode": {
    "name": "ipython",
    "version": 3
   },
   "file_extension": ".py",
   "mimetype": "text/x-python",
   "name": "python",
   "nbconvert_exporter": "python",
   "pygments_lexer": "ipython3",
   "version": "3.7.3"
  },
  "toc": {
   "base_numbering": 1,
   "nav_menu": {
    "height": "280px",
    "width": "328px"
   },
   "number_sections": true,
   "sideBar": true,
   "skip_h1_title": false,
   "title_cell": "Table of Contents",
   "title_sidebar": "Contents",
   "toc_cell": false,
   "toc_position": {
    "height": "calc(100% - 180px)",
    "left": "10px",
    "top": "150px",
    "width": "336px"
   },
   "toc_section_display": true,
   "toc_window_display": true
  }
 },
 "nbformat": 4,
 "nbformat_minor": 2
}
