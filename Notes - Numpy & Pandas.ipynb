{
 "cells": [
  {
   "cell_type": "markdown",
   "metadata": {
    "toc": true
   },
   "source": [
    "<h1>Table of Contents<span class=\"tocSkip\"></span></h1>\n",
    "<div class=\"toc\"><ul class=\"toc-item\"><li><span><a href=\"#Notes\" data-toc-modified-id=\"Notes-1\"><span class=\"toc-item-num\">1&nbsp;&nbsp;</span>Notes</a></span><ul class=\"toc-item\"><li><ul class=\"toc-item\"><li><ul class=\"toc-item\"><li><span><a href=\"#Pandas\" data-toc-modified-id=\"Pandas-1.0.0.1\"><span class=\"toc-item-num\">1.0.0.1&nbsp;&nbsp;</span>Pandas</a></span></li></ul></li></ul></li></ul></li></ul></div>"
   ]
  },
  {
   "cell_type": "markdown",
   "metadata": {},
   "source": [
    "# Notes\n",
    "**Numpy Library**: The NumPy library takes advantage of a processor feature called Single Instruction Multiple Data (SIMD) to process data faster. SIMD allows a processor to perform the same operation, on multiple data points, in a single processor cycle\n",
    "\n",
    "**Vectorization**: This concept of replacing for loops with operations applied to multiple data points at once is called vectorization.\n",
    "\n",
    "**Continue**: The core data structure in NumPy that makes vectorization possible is the ndarray or n-dimensional array. In programming, array describes a collection of elements, similar to a list. The word n-dimensional refers to the fact that ndarrays can have one or more dimensions. We'll start by first working with one-dimensional (1D) ndarrays."
   ]
  },
  {
   "cell_type": "code",
   "execution_count": 1,
   "metadata": {
    "ExecuteTime": {
     "end_time": "2019-07-26T19:15:50.361827Z",
     "start_time": "2019-07-26T19:15:50.273613Z"
    }
   },
   "outputs": [],
   "source": [
    "import numpy as np"
   ]
  },
  {
   "cell_type": "markdown",
   "metadata": {},
   "source": [
    "Directly convert a list to an ndarray using the `numpy.array()` constructor. To create a 1D ndarray, we can pass in a single list:"
   ]
  },
  {
   "cell_type": "code",
   "execution_count": 3,
   "metadata": {
    "ExecuteTime": {
     "end_time": "2019-07-26T19:20:32.914376Z",
     "start_time": "2019-07-26T19:20:32.910887Z"
    }
   },
   "outputs": [
    {
     "name": "stdout",
     "output_type": "stream",
     "text": [
      "(4,)\n"
     ]
    }
   ],
   "source": [
    "data_ndarray = np.array([5, 10, 15, 20])\n",
    "type(data_ndarray)\n",
    "print(data_ndarray.shape)"
   ]
  },
  {
   "cell_type": "markdown",
   "metadata": {},
   "source": [
    "As you can see from the above, this is a 1D array. There is only 1 row containing 4 items which create the shape `(4,)`. Let's work with 2D arrays next. \n",
    "\n",
    "A 2D Array is an array with multiple dimmensions"
   ]
  },
  {
   "cell_type": "code",
   "execution_count": 4,
   "metadata": {
    "ExecuteTime": {
     "end_time": "2019-07-26T19:21:45.667930Z",
     "start_time": "2019-07-26T19:21:45.664434Z"
    }
   },
   "outputs": [
    {
     "name": "stdout",
     "output_type": "stream",
     "text": [
      "(2, 3)\n"
     ]
    }
   ],
   "source": [
    "data_ndarray = np.array([[5, 10, 15], \n",
    "                         [20, 25, 30]])\n",
    "print(data_ndarray.shape)"
   ]
  },
  {
   "cell_type": "markdown",
   "metadata": {},
   "source": [
    "The data type returned is called a tuple. Tuples are very similar to Python lists, but can't be modified. The output gives us a few important pieces of information:\n",
    "\n",
    "    - The first number tells us that there are `2 rows` in data_ndarray.\n",
    "    - The second number tells us that there are `3 columns` in data_ndarray."
   ]
  },
  {
   "cell_type": "markdown",
   "metadata": {},
   "source": [
    "As shown above, we can select rows in ndarrays very similarly to lists of lists. In reality, what we're seeing is a kind of shortcut. For any 2D array, the full syntax for selecting data is:\n",
    "\n",
    "`ndarray[row_index,column_index]`\n",
    "\n",
    " or if you want to select all\n",
    " columns for a given set of rows\n",
    " \n",
    "`ndarray[row_index]`"
   ]
  },
  {
   "cell_type": "markdown",
   "metadata": {},
   "source": [
    "With a list of lists, we use two separate pairs of square brackets back-to-back. With a NumPy ndarray, we use a single pair of brackets with comma-separated row and column locations.\n",
    "\n",
    "Let's practice selecting one row, multiple rows, and single items from our taxi ndarray."
   ]
  },
  {
   "cell_type": "markdown",
   "metadata": {},
   "source": [
    "**LIST**\n",
    "\n",
    "`data[1][3]`\n",
    "\n",
    "**NumPy**\n",
    "\n",
    "`data[1,3]`"
   ]
  },
  {
   "cell_type": "markdown",
   "metadata": {},
   "source": [
    "Now let's view more\n",
    "\n",
    "`data[:,3]` - Produces a 1D ndarray of the list, but it selects a single column (column 3)\n",
    "\n",
    "`data[:1:3]` - Produces a 2D ndarray of the list, selecting columns 1 and 2 (0 index)\n",
    "\n",
    "`data[:, [1,3,4]]` - Produces a 2D ndarray of the list, selecting columns 1, 3 and 4 (0 index)"
   ]
  },
  {
   "cell_type": "markdown",
   "metadata": {},
   "source": [
    "With a list of lists, we need to use a for loop to extract specific column(s) and append them back to a new list. With ndarrays, the process is much simpler. We again use single brackets with comma-separated row and column locations, but we use a colon (:) for the row locations, which gives us all of the rows.\n",
    "\n",
    "If we want to select a partial 1D slice of a row or column, we can combine a single value for one dimension with a slice for the other dimension:\n",
    "\n",
    "`data[2, 1:4]` - Produces a 1D ndarray of the list, selecting row 2, columns 1, 2, and 3 (0 index)\n",
    "`data[1:,4]` - Produces a 1D ndarray of the list, selecting rows 1-4, and column 4 (0 index)\n",
    "\n",
    "Lastly, if we want to select a 2D slice, we can use slices for both dimensions:\n",
    "\n",
    "`data[1:4,,:3]` - Produces a 2D ndarray of the list, selecting rows 1-3, and column 0-2 (0 index)"
   ]
  },
  {
   "cell_type": "markdown",
   "metadata": {},
   "source": [
    "At the time, we only talked about how vectorized operations make this faster; however, vectorized operations also make our code easier to execute. Here's how we would perform the same task above with vectorized operations\n",
    "\n",
    "The result of adding two 1D ndarrays is a 1D ndarray of the same shape (or dimensions) as the original. In this context, ndarrays can also be called vectors, a term taken from a branch of mathematics called linear algebra. What we just did, adding two vectors together, is called vector addition.\n",
    "\n",
    "When we perform these operations on two 1D vectors, both vectors must have the same shape."
   ]
  },
  {
   "cell_type": "markdown",
   "metadata": {},
   "source": [
    "**Functions** act as stand alone segments of code that usually take an input, perform some processing, and return some output. For example, we can use the len() function to calculate the length of a list or the number of characters in a string."
   ]
  },
  {
   "cell_type": "markdown",
   "metadata": {},
   "source": [
    "**Methods** are special functions that belong to a specific type of object. This means that, for instance, when we work with list objects, there are special functions or methods that can only be used with lists. For example, we can use the list.append() method to add an item to the end of a list. If we try to use that method on a string, we will get an error:"
   ]
  },
  {
   "cell_type": "markdown",
   "metadata": {},
   "source": [
    "Next, we'll calculate statistics for 2D ndarrays. If we use the ndarray.max() method on a 2D ndarray without any additional parameters, it will return a single value, just like with a 1D array:\n",
    "\n",
    "But what if we wanted to find the maximum value of each row? We'd need to use the axis parameter and specify a value of 1 to indicate we want to calculate the maximum value for each row (axis=1).\n",
    "\n",
    "If we want to find the maximum value of each column, we'd use an axis value of 0 (axis=0):"
   ]
  },
  {
   "cell_type": "markdown",
   "metadata": {},
   "source": [
    "**Get a textfile using Numpy**\n",
    "\n",
    "`np.genfromtxt(filename, delimiter=None, skip_header=1)`\n",
    "\n",
    "`filename`: A positional argument, usually a string representing the path to the text file to be read.\n",
    "\n",
    "`delimiter`: A named argument, specifying the string used to separate each value.\n",
    "\n",
    "`skip_header`:  Accepts an integer, the number of rows from the start of the file to skip\n",
    "\n",
    "Because we have a CSV file, the delimiter is a comma. Here's how we'd read in a file named:\n",
    "\n",
    "`data = np.genfromtxt('data.csv', delimiter=',')`"
   ]
  },
  {
   "cell_type": "markdown",
   "metadata": {},
   "source": [
    "That's because NumPy ndarrays can contain only one datatype.\n",
    "\n",
    "We can use the ndarray.dtype attribute to see the internal datatype that has been used.\n",
    "\n",
    "`print(taxi.dtype)`"
   ]
  },
  {
   "cell_type": "markdown",
   "metadata": {},
   "source": [
    "In the last mission, we learned how to index — or select — data from ndarrays. In this mission, we're going to focus on arguably the most powerful method, the boolean array. A boolean array, as the name suggests, is an array of boolean values. Boolean arrays are sometimes called boolean vectors or boolean masks.\n",
    "\n",
    "The boolean array acts as a filter, so that the values corresponding to True become part of the result and the values corresponding to False are removed."
   ]
  },
  {
   "cell_type": "markdown",
   "metadata": {},
   "source": [
    "When working with 2D ndarrays, you can use boolean indexing in combination with any of the indexing methods we learned in the previous mission. The only limitation is that the boolean array must have the same length as the dimension you're indexing. Let's look at some examples"
   ]
  },
  {
   "cell_type": "markdown",
   "metadata": {},
   "source": [
    "#### Pandas"
   ]
  },
  {
   "cell_type": "markdown",
   "metadata": {
    "ExecuteTime": {
     "end_time": "2019-07-30T17:56:56.124325Z",
     "start_time": "2019-07-30T17:56:56.121001Z"
    }
   },
   "source": [
    "**Dataframe**, the primary pandas data structure. 2D pandas object\n",
    "\n",
    "Recall that one of the features that makes pandas better for working with data is its support for string column and row labels:\n",
    "\n",
    "    - Axis values can have string labels, not just numeric ones.\n",
    "    - Dataframes can contain columns with multiple data types: including integer, float, and string.\n",
    "    \n",
    "We can use the `DataFrame.dtypes` attribute (similar to NumPy's ndarray.dtype attribute) to return information about the types of each column.    "
   ]
  },
  {
   "cell_type": "markdown",
   "metadata": {},
   "source": [
    "**Series** is the pandas type for one-dimensional objects. Anytime you see a 1D pandas object, it will be a **series**. Anytime you see a *2D pandas object*, it will be a dataframe."
   ]
  },
  {
   "cell_type": "markdown",
   "metadata": {},
   "source": [
    "Think of a dataframe as a collection of series objects, which is similar to how pandas stores the data behind the scenes."
   ]
  },
  {
   "cell_type": "markdown",
   "metadata": {},
   "source": [
    "**Selecting Columns**\n",
    "\n",
    "**`df['column_label']`** - select single column\n",
    "\n",
    "**`df[['column_label_1', 'column_label_2']]`** - select a list of columns\n",
    "\n",
    "**`df.loc[:, 'column_label_1':'column_label_2']`** - slice columns"
   ]
  },
  {
   "cell_type": "markdown",
   "metadata": {},
   "source": [
    "**Selecting Rows**\n",
    "\n",
    "Now that we've learned how to select columns by label, let's learn how to select rows using the labels of the index axis:\n",
    "\n",
    "**`df.loc['row']`** - select single row\n",
    "\n",
    "**`df.loc[['row_1', 'row_2', 'row_3']]`** - select multiple rows\n",
    "\n",
    "**`df.loc['row_1':'row_5']`** - slice rows"
   ]
  },
  {
   "cell_type": "markdown",
   "metadata": {},
   "source": [
    "Because series and dataframes are two distinct objects, they have their own unique methods. Let's look at an example of a series method next - the `Series.value_counts()` method. This method displays each unique non-null value in a column and their counts in order.\n",
    "\n",
    "In the resulting series, we can see each unique non-null value in the column and their counts.\n",
    "\n",
    "However, what if we wanted to select just the count for a specific row?\n",
    "\n",
    "As with dataframes, we can use `Series.loc[]` to select rows from a series using single labels, a list, or a slice object. We can also omit `loc[]` and use bracket shortcuts for all three:\n",
    "\n",
    "**`s['row1']`** - select single row\n",
    "\n",
    "**`s[['row_1', 'row_2', 'row_3']]`** - select multiple rows\n",
    "\n",
    "**`s['row_1':'row_5']`** - slice rows"
   ]
  },
  {
   "cell_type": "markdown",
   "metadata": {},
   "source": [
    "**Different Label Selection Methods**\n",
    "\n",
    "**Single column from dataframe** - `df.loc[:,\"col1\"]`\tOR `df[\"col1\"]`\n",
    "\n",
    "**List of columns from dataframe** - `df.loc[:,[\"col1\",\"col7\"]]` OR `df[[\"col1\",\"col7\"]]`\n",
    "\n",
    "**Slice of columns from dataframe** - `df.loc[:,\"col1\":\"col4\"]`\n",
    "\n",
    "**Single row from dataframe** - `df.loc[\"row4\"]`\n",
    "\n",
    "**List of rows from dataframe**\t- `df.loc[[\"row1\", \"row8\"]]`\n",
    "\n",
    "**Slice of rows from dataframe** - `df.loc[\"row3\":\"row5\"]` OR `df[\"row3\":\"row5\"]`\n",
    "\n",
    "**Single item from series**\t- `s.loc[\"item8\"]` OR `s[\"item8\"]`\n",
    "\n",
    "**List of items from series** - `s.loc[[\"item1\",\"item7\"]]` OR `s[[\"item1\",\"item7\"]]`\n",
    "\n",
    "**Slice of items from series** - `s.loc[\"item2\":\"item4\"]` OR `s[\"item2\":\"item4\"]`"
   ]
  },
  {
   "cell_type": "markdown",
   "metadata": {},
   "source": [
    "Because pandas is designed to operate like NumPy, a lot of concepts and methods from Numpy are supported. Recall that one of the ways NumPy makes working with data easier is with vectorized operations, or operations applied to multiple data points at once:\n",
    "\n",
    "Vectorization not only improves our code's performance, but also enables us to write code more quickly.\n",
    "\n",
    "Because pandas is an extension of NumPy, it also supports vectorized operations. Let's look at an example of how this would work with a pandas series:\n",
    "\n",
    "Like NumPy, pandas supports many descriptive stats methods that can help us answer these questions. Here are a few of the most useful ones (with links to documentation):\n",
    "\n",
    "`Series.max()`\n",
    "\n",
    "`Series.min()`\n",
    "\n",
    "`Series.mean()`\n",
    "\n",
    "`Series.median()`\n",
    "\n",
    "`Series.mode()`\n",
    "\n",
    "`Series.sum()`\n",
    "\n",
    "`Series.describe()`"
   ]
  },
  {
   "cell_type": "markdown",
   "metadata": {},
   "source": [
    "Unlike their series counterparts, dataframe methods require an axis parameter so we know which axis to calculate across. While you can use integers to refer to the first and second axis, pandas dataframe methods also accept the strings \"index\" and \"columns\" for the axis parameter:\n",
    "\n",
    "`DataFrame.method(axis=0)` OR `DataFrame.method(axis='index')` - Calculates along the row axis\n",
    "\n",
    "`DataFrame.method(axis=1)` OR `DataFrame.method(axis='column')` - Calculates along the column axis"
   ]
  },
  {
   "cell_type": "markdown",
   "metadata": {},
   "source": [
    "**Assignments**\n",
    "\n",
    "`df['col_1'] = 0` - Assigns each row in `col_1` to `0`\n",
    "\n",
    "`df.loc['row_1', 'col_1'] = 0` - Assigns `0` to `row_1` in `col_1`"
   ]
  },
  {
   "cell_type": "markdown",
   "metadata": {},
   "source": [
    "Recall that when we worked with a dataframe with string index labels, we used `loc[]` to select data:\n",
    "\n",
    "`loc` - label based selection\n",
    "\n",
    "`iloc` - integer position based selection"
   ]
  },
  {
   "cell_type": "markdown",
   "metadata": {},
   "source": [
    "`.iloc[]`\n",
    "\n",
    "`df.iloc[row_index, column_index]`"
   ]
  }
 ],
 "metadata": {
  "hide_input": false,
  "kernelspec": {
   "display_name": "Python 3",
   "language": "python",
   "name": "python3"
  },
  "language_info": {
   "codemirror_mode": {
    "name": "ipython",
    "version": 3
   },
   "file_extension": ".py",
   "mimetype": "text/x-python",
   "name": "python",
   "nbconvert_exporter": "python",
   "pygments_lexer": "ipython3",
   "version": "3.7.3"
  },
  "toc": {
   "base_numbering": 1,
   "nav_menu": {},
   "number_sections": true,
   "sideBar": true,
   "skip_h1_title": false,
   "title_cell": "Table of Contents",
   "title_sidebar": "Contents",
   "toc_cell": true,
   "toc_position": {},
   "toc_section_display": true,
   "toc_window_display": false
  }
 },
 "nbformat": 4,
 "nbformat_minor": 2
}
