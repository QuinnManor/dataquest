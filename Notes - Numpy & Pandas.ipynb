{
 "cells": [
  {
   "cell_type": "markdown",
   "metadata": {
    "toc": true
   },
   "source": [
    "<h1>Table of Contents<span class=\"tocSkip\"></span></h1>\n",
    "<div class=\"toc\"><ul class=\"toc-item\"><li><span><a href=\"#Notes\" data-toc-modified-id=\"Notes-1\"><span class=\"toc-item-num\">1&nbsp;&nbsp;</span>Notes</a></span></li></ul></div>"
   ]
  },
  {
   "cell_type": "markdown",
   "metadata": {},
   "source": [
    "# Notes\n",
    "**Numpy Library**: The NumPy library takes advantage of a processor feature called Single Instruction Multiple Data (SIMD) to process data faster. SIMD allows a processor to perform the same operation, on multiple data points, in a single processor cycle\n",
    "\n",
    "**Vectorization**: This concept of replacing for loops with operations applied to multiple data points at once is called vectorization.\n",
    "\n",
    "**Continue**: The core data structure in NumPy that makes vectorization possible is the ndarray or n-dimensional array. In programming, array describes a collection of elements, similar to a list. The word n-dimensional refers to the fact that ndarrays can have one or more dimensions. We'll start by first working with one-dimensional (1D) ndarrays."
   ]
  },
  {
   "cell_type": "code",
   "execution_count": 1,
   "metadata": {
    "ExecuteTime": {
     "end_time": "2019-07-26T19:15:50.361827Z",
     "start_time": "2019-07-26T19:15:50.273613Z"
    }
   },
   "outputs": [],
   "source": [
    "import numpy as np"
   ]
  },
  {
   "cell_type": "markdown",
   "metadata": {},
   "source": [
    "Directly convert a list to an ndarray using the `numpy.array()` constructor. To create a 1D ndarray, we can pass in a single list:"
   ]
  },
  {
   "cell_type": "code",
   "execution_count": 3,
   "metadata": {
    "ExecuteTime": {
     "end_time": "2019-07-26T19:20:32.914376Z",
     "start_time": "2019-07-26T19:20:32.910887Z"
    }
   },
   "outputs": [
    {
     "name": "stdout",
     "output_type": "stream",
     "text": [
      "(4,)\n"
     ]
    }
   ],
   "source": [
    "data_ndarray = np.array([5, 10, 15, 20])\n",
    "type(data_ndarray)\n",
    "print(data_ndarray.shape)"
   ]
  },
  {
   "cell_type": "markdown",
   "metadata": {},
   "source": [
    "As you can see from the above, this is a 1D array. There is only 1 row containing 4 items which create the shape `(4,)`. Let's work with 2D arrays next. \n",
    "\n",
    "A 2D Array is an array with multiple dimmensions"
   ]
  },
  {
   "cell_type": "code",
   "execution_count": 4,
   "metadata": {
    "ExecuteTime": {
     "end_time": "2019-07-26T19:21:45.667930Z",
     "start_time": "2019-07-26T19:21:45.664434Z"
    }
   },
   "outputs": [
    {
     "name": "stdout",
     "output_type": "stream",
     "text": [
      "(2, 3)\n"
     ]
    }
   ],
   "source": [
    "data_ndarray = np.array([[5, 10, 15], \n",
    "                         [20, 25, 30]])\n",
    "print(data_ndarray.shape)"
   ]
  },
  {
   "cell_type": "markdown",
   "metadata": {},
   "source": [
    "The data type returned is called a tuple. Tuples are very similar to Python lists, but can't be modified. The output gives us a few important pieces of information:\n",
    "\n",
    "    - The first number tells us that there are `2 rows` in data_ndarray.\n",
    "    - The second number tells us that there are `3 columns` in data_ndarray."
   ]
  },
  {
   "cell_type": "markdown",
   "metadata": {},
   "source": [
    "As shown above, we can select rows in ndarrays very similarly to lists of lists. In reality, what we're seeing is a kind of shortcut. For any 2D array, the full syntax for selecting data is:\n",
    "\n",
    "`ndarray[row_index,column_index]`\n",
    "\n",
    " or if you want to select all\n",
    " columns for a given set of rows\n",
    " \n",
    "`ndarray[row_index]`"
   ]
  },
  {
   "cell_type": "markdown",
   "metadata": {},
   "source": [
    "With a list of lists, we use two separate pairs of square brackets back-to-back. With a NumPy ndarray, we use a single pair of brackets with comma-separated row and column locations.\n",
    "\n",
    "Let's practice selecting one row, multiple rows, and single items from our taxi ndarray."
   ]
  },
  {
   "cell_type": "markdown",
   "metadata": {},
   "source": [
    "**LIST**\n",
    "\n",
    "`data[1][3]`\n",
    "\n",
    "**NumPy**\n",
    "\n",
    "`data[1,3]`"
   ]
  },
  {
   "cell_type": "markdown",
   "metadata": {},
   "source": [
    "Now let's view more\n",
    "\n",
    "`data[:,3]` - Produces a 1D ndarray of the list, but it selects a single column (column 3)\n",
    "\n",
    "`data[:1:3]` - Produces a 2D ndarray of the list, selecting columns 1 and 2 (0 index)\n",
    "\n",
    "`data[:, [1,3,4]]` - Produces a 2D ndarray of the list, selecting columns 1, 3 and 4 (0 index)"
   ]
  },
  {
   "cell_type": "markdown",
   "metadata": {},
   "source": [
    "With a list of lists, we need to use a for loop to extract specific column(s) and append them back to a new list. With ndarrays, the process is much simpler. We again use single brackets with comma-separated row and column locations, but we use a colon (:) for the row locations, which gives us all of the rows.\n",
    "\n",
    "If we want to select a partial 1D slice of a row or column, we can combine a single value for one dimension with a slice for the other dimension:\n",
    "\n",
    "`data[2, 1:4]` - Produces a 1D ndarray of the list, selecting row 2, columns 1, 2, and 3 (0 index)\n",
    "`data[1:,4]` - Produces a 1D ndarray of the list, selecting rows 1-4, and column 4 (0 index)\n",
    "\n",
    "Lastly, if we want to select a 2D slice, we can use slices for both dimensions:\n",
    "\n",
    "`data[1:4,,:3]` - Produces a 2D ndarray of the list, selecting rows 1-3, and column 0-2 (0 index)"
   ]
  },
  {
   "cell_type": "markdown",
   "metadata": {},
   "source": [
    "At the time, we only talked about how vectorized operations make this faster; however, vectorized operations also make our code easier to execute. Here's how we would perform the same task above with vectorized operations\n",
    "\n",
    "The result of adding two 1D ndarrays is a 1D ndarray of the same shape (or dimensions) as the original. In this context, ndarrays can also be called vectors, a term taken from a branch of mathematics called linear algebra. What we just did, adding two vectors together, is called vector addition.\n",
    "\n",
    "When we perform these operations on two 1D vectors, both vectors must have the same shape."
   ]
  },
  {
   "cell_type": "markdown",
   "metadata": {},
   "source": [
    "**Functions** act as stand alone segments of code that usually take an input, perform some processing, and return some output. For example, we can use the len() function to calculate the length of a list or the number of characters in a string."
   ]
  },
  {
   "cell_type": "markdown",
   "metadata": {},
   "source": [
    "**Methods** are special functions that belong to a specific type of object. This means that, for instance, when we work with list objects, there are special functions or methods that can only be used with lists. For example, we can use the list.append() method to add an item to the end of a list. If we try to use that method on a string, we will get an error:"
   ]
  },
  {
   "cell_type": "markdown",
   "metadata": {},
   "source": [
    "Next, we'll calculate statistics for 2D ndarrays. If we use the ndarray.max() method on a 2D ndarray without any additional parameters, it will return a single value, just like with a 1D array:\n",
    "\n",
    "But what if we wanted to find the maximum value of each row? We'd need to use the axis parameter and specify a value of 1 to indicate we want to calculate the maximum value for each row (axis=1).\n",
    "\n",
    "If we want to find the maximum value of each column, we'd use an axis value of 0 (axis=0):"
   ]
  },
  {
   "cell_type": "code",
   "execution_count": null,
   "metadata": {},
   "outputs": [],
   "source": []
  }
 ],
 "metadata": {
  "hide_input": false,
  "kernelspec": {
   "display_name": "Python 3",
   "language": "python",
   "name": "python3"
  },
  "language_info": {
   "codemirror_mode": {
    "name": "ipython",
    "version": 3
   },
   "file_extension": ".py",
   "mimetype": "text/x-python",
   "name": "python",
   "nbconvert_exporter": "python",
   "pygments_lexer": "ipython3",
   "version": "3.7.3"
  },
  "toc": {
   "base_numbering": 1,
   "nav_menu": {},
   "number_sections": true,
   "sideBar": true,
   "skip_h1_title": false,
   "title_cell": "Table of Contents",
   "title_sidebar": "Contents",
   "toc_cell": true,
   "toc_position": {},
   "toc_section_display": true,
   "toc_window_display": false
  }
 },
 "nbformat": 4,
 "nbformat_minor": 2
}
