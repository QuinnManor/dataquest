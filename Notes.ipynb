{
 "cells": [
  {
   "cell_type": "markdown",
   "metadata": {},
   "source": [
    "Inserting variables into output"
   ]
  },
  {
   "cell_type": "code",
   "execution_count": 2,
   "metadata": {},
   "outputs": [
    {
     "name": "stdout",
     "output_type": "stream",
     "text": [
      "M Quinn is launching some artwork in 2020\n"
     ]
    }
   ],
   "source": [
    "artist = \"M Quinn\"\n",
    "year = 2020\n",
    "\n",
    "output = \"{} is launching some artwork in {}\".format(artist, year)\n",
    "print(output)"
   ]
  },
  {
   "cell_type": "code",
   "execution_count": 3,
   "metadata": {},
   "outputs": [
    {
     "name": "stdout",
     "output_type": "stream",
     "text": [
      "M Quinn is launching some artwork in 2020\n"
     ]
    }
   ],
   "source": [
    "output = f'{artist} is launching some artwork in {year}'\n",
    "print(output)"
   ]
  },
  {
   "cell_type": "markdown",
   "metadata": {},
   "source": [
    "Formatting Numbers\n",
    "\n",
    "*Format Specifications*:\n",
    "\n",
    "{var:.2f}\n",
    "\n",
    "*var* indicates the variable to insert\n",
    "\n",
    "*.2f* indicates the decimal places"
   ]
  },
  {
   "cell_type": "code",
   "execution_count": 16,
   "metadata": {},
   "outputs": [
    {
     "name": "stdout",
     "output_type": "stream",
     "text": [
      "I own  77.23% of the company\n"
     ]
    }
   ],
   "source": [
    "num = 77.2342342\n",
    "print(\"I own {pct: .2f}% of the company\".format(pct=num))"
   ]
  },
  {
   "cell_type": "markdown",
   "metadata": {},
   "source": [
    "For larger numbers, to add a comma run it like this:"
   ]
  },
  {
   "cell_type": "code",
   "execution_count": 19,
   "metadata": {},
   "outputs": [
    {
     "name": "stdout",
     "output_type": "stream",
     "text": [
      "The number: 10,432,432,431, is pretty large!\n"
     ]
    }
   ],
   "source": [
    "num = 10432432431\n",
    "print(\"The number: {:,}, is pretty large!\".format(num))"
   ]
  },
  {
   "cell_type": "markdown",
   "metadata": {},
   "source": [
    "Adding dollar signs and alladat"
   ]
  },
  {
   "cell_type": "code",
   "execution_count": 25,
   "metadata": {},
   "outputs": [
    {
     "name": "stdout",
     "output_type": "stream",
     "text": [
      "My bank balance: $4,321.34\n"
     ]
    }
   ],
   "source": [
    "num = 4321.342432\n",
    "print(\"My bank balance: ${:,.2f}\".format(num))"
   ]
  },
  {
   "cell_type": "code",
   "execution_count": 32,
   "metadata": {},
   "outputs": [
    {
     "name": "stdout",
     "output_type": "stream",
     "text": [
      "There are 56 artworks by male artists\n",
      "There are 456 artworks by female artists\n"
     ]
    }
   ],
   "source": [
    "for x, y in gender.items():\n",
    "    print(\"There are {:,} artworks by {} artists\".format(y, x))"
   ]
  }
 ],
 "metadata": {
  "kernelspec": {
   "display_name": "Python 3",
   "language": "python",
   "name": "python3"
  },
  "language_info": {
   "codemirror_mode": {
    "name": "ipython",
    "version": 3
   },
   "file_extension": ".py",
   "mimetype": "text/x-python",
   "name": "python",
   "nbconvert_exporter": "python",
   "pygments_lexer": "ipython3",
   "version": "3.7.3"
  },
  "toc": {
   "base_numbering": 1,
   "nav_menu": {},
   "number_sections": true,
   "sideBar": true,
   "skip_h1_title": false,
   "title_cell": "Table of Contents",
   "title_sidebar": "Contents",
   "toc_cell": false,
   "toc_position": {},
   "toc_section_display": true,
   "toc_window_display": false
  }
 },
 "nbformat": 4,
 "nbformat_minor": 2
}
