{
 "cells": [
  {
   "cell_type": "markdown",
   "metadata": {},
   "source": [
    "Inserting variables into output"
   ]
  },
  {
   "cell_type": "code",
   "execution_count": 2,
   "metadata": {},
   "outputs": [
    {
     "name": "stdout",
     "output_type": "stream",
     "text": [
      "M Quinn is launching some artwork in 2020\n"
     ]
    }
   ],
   "source": [
    "artist = \"M Quinn\"\n",
    "year = 2020\n",
    "\n",
    "output = \"{} is launching some artwork in {}\".format(artist, year)\n",
    "print(output)"
   ]
  },
  {
   "cell_type": "code",
   "execution_count": 3,
   "metadata": {},
   "outputs": [
    {
     "name": "stdout",
     "output_type": "stream",
     "text": [
      "M Quinn is launching some artwork in 2020\n"
     ]
    }
   ],
   "source": [
    "output = f'{artist} is launching some artwork in {year}'\n",
    "print(output)"
   ]
  },
  {
   "cell_type": "markdown",
   "metadata": {},
   "source": [
    "Formatting Numbers\n",
    "\n",
    "*Format Specifications*:\n",
    "\n",
    "{var:.2f}\n",
    "\n",
    "*var* indicates the variable to insert\n",
    "\n",
    "*.2f* indicates the decimal places"
   ]
  },
  {
   "cell_type": "code",
   "execution_count": 16,
   "metadata": {},
   "outputs": [
    {
     "name": "stdout",
     "output_type": "stream",
     "text": [
      "I own  77.23% of the company\n"
     ]
    }
   ],
   "source": [
    "num = 77.2342342\n",
    "print(\"I own {pct: .2f}% of the company\".format(pct=num))"
   ]
  },
  {
   "cell_type": "markdown",
   "metadata": {},
   "source": [
    "For larger numbers, to add a comma run it like this:"
   ]
  },
  {
   "cell_type": "code",
   "execution_count": 19,
   "metadata": {},
   "outputs": [
    {
     "name": "stdout",
     "output_type": "stream",
     "text": [
      "The number: 10,432,432,431, is pretty large!\n"
     ]
    }
   ],
   "source": [
    "num = 10432432431\n",
    "print(\"The number: {:,}, is pretty large!\".format(num))"
   ]
  },
  {
   "cell_type": "markdown",
   "metadata": {},
   "source": [
    "Adding dollar signs and alladat"
   ]
  },
  {
   "cell_type": "code",
   "execution_count": 25,
   "metadata": {},
   "outputs": [
    {
     "name": "stdout",
     "output_type": "stream",
     "text": [
      "My bank balance: $4,321.34\n"
     ]
    }
   ],
   "source": [
    "num = 4321.342432\n",
    "print(\"My bank balance: ${:,.2f}\".format(num))"
   ]
  },
  {
   "cell_type": "code",
   "execution_count": 32,
   "metadata": {},
   "outputs": [
    {
     "name": "stdout",
     "output_type": "stream",
     "text": [
      "There are 56 artworks by male artists\n",
      "There are 456 artworks by female artists\n"
     ]
    }
   ],
   "source": [
    "for x, y in gender.items():\n",
    "    print(\"There are {:,} artworks by {} artists\".format(y, x))"
   ]
  },
  {
   "cell_type": "markdown",
   "metadata": {},
   "source": [
    "**OOP Python**\n",
    "\n",
    "Rather than code being designed around sequential steps (procedural programming/functional) we define code around *objects*.\n",
    "\n",
    "`type()` is a function that returns what type a class an object is\n",
    "\n",
    "`object` is an entity that stores data\n",
    "\n",
    "An `object`'s class defines properties that the objects of that class will have\n",
    "\n",
    "Defining a class is similar to defining a function"
   ]
  },
  {
   "cell_type": "code",
   "execution_count": 34,
   "metadata": {},
   "outputs": [],
   "source": [
    "# A function. Notice the snake casing\n",
    "def my_function():\n",
    "    return []\n",
    "\n",
    "\n",
    "# A Class. Notice the Pascal Casing\n",
    "class MyClass():\n",
    "    pass"
   ]
  },
  {
   "cell_type": "markdown",
   "metadata": {},
   "source": [
    "`pass` let's us define an empty code block. Ultimately, it doesn't do anything, but prevent an error when our class is empty. It's used as a placeholder\n",
    "\n",
    "In **OOP**, we instantiate new objects by creating `instances` of them."
   ]
  },
  {
   "cell_type": "code",
   "execution_count": 36,
   "metadata": {},
   "outputs": [
    {
     "name": "stdout",
     "output_type": "stream",
     "text": [
      "<__main__.MyClass object at 0x11055f3c8>\n"
     ]
    }
   ],
   "source": [
    "my_class_instance = MyClass()\n",
    "print(my_class_instance)"
   ]
  },
  {
   "cell_type": "markdown",
   "metadata": {},
   "source": [
    "Our class doesn't do anything because it doesn't contain any `methods`. `methods` allow the objects to do stuff. Let's create our class in a way that allows us to greet folks"
   ]
  },
  {
   "cell_type": "code",
   "execution_count": 45,
   "metadata": {},
   "outputs": [],
   "source": [
    "class MyClass():\n",
    "    def greet():\n",
    "        print(\"Hello\")\n",
    "    \n",
    "my_class_instance = MyClass()"
   ]
  },
  {
   "cell_type": "code",
   "execution_count": 48,
   "metadata": {},
   "outputs": [
    {
     "ename": "TypeError",
     "evalue": "greet() takes 0 positional arguments but 1 was given",
     "output_type": "error",
     "traceback": [
      "\u001b[0;31m---------------------------------------------------------------------------\u001b[0m",
      "\u001b[0;31mTypeError\u001b[0m                                 Traceback (most recent call last)",
      "\u001b[0;32m<ipython-input-48-1a4f42a8db70>\u001b[0m in \u001b[0;36m<module>\u001b[0;34m\u001b[0m\n\u001b[0;32m----> 1\u001b[0;31m \u001b[0mmy_class_instance\u001b[0m\u001b[0;34m.\u001b[0m\u001b[0mgreet\u001b[0m\u001b[0;34m(\u001b[0m\u001b[0;34m)\u001b[0m\u001b[0;34m\u001b[0m\u001b[0;34m\u001b[0m\u001b[0m\n\u001b[0m",
      "\u001b[0;31mTypeError\u001b[0m: greet() takes 0 positional arguments but 1 was given"
     ]
    }
   ],
   "source": [
    "my_class_instance.greet()"
   ]
  },
  {
   "cell_type": "markdown",
   "metadata": {},
   "source": [
    "Notice, we created the class, instantiated the class, and called the method `greet`, but it still failed. Why? Well, this is because, behind the scenes, Python adds an argument, `self`, which is the instance made from that class. To resolve this, we need to add that argument `self` as an argument to the method"
   ]
  },
  {
   "cell_type": "code",
   "execution_count": 49,
   "metadata": {},
   "outputs": [],
   "source": [
    "class MyClass():\n",
    "    def greet(self):\n",
    "        print(\"Hello\")\n",
    "    \n",
    "my_class_instance = MyClass()"
   ]
  },
  {
   "cell_type": "code",
   "execution_count": 50,
   "metadata": {},
   "outputs": [
    {
     "name": "stdout",
     "output_type": "stream",
     "text": [
      "Hello\n"
     ]
    }
   ],
   "source": [
    "my_class_instance.greet()"
   ]
  },
  {
   "cell_type": "markdown",
   "metadata": {},
   "source": [
    "Boom. By adding `self`, the instance of the class, to the class method, we are able to call that method upon instantiation.\n",
    "\n",
    "`self` will **ALWAYS** be the first argument of a a method within a class. Hence, if we create a method with another argument, it has to come after `self`. Say, we wan't to return a string within a method"
   ]
  },
  {
   "cell_type": "code",
   "execution_count": 52,
   "metadata": {},
   "outputs": [
    {
     "name": "stdout",
     "output_type": "stream",
     "text": [
      "Apples\n",
      "Apple\n",
      "Apple Pie\n"
     ]
    }
   ],
   "source": [
    "class MyClass():\n",
    "    def greet(self, string):\n",
    "        print(string)\n",
    "    \n",
    "my_class_instance = MyClass()\n",
    "my_class_instance.greet('Apples')\n",
    "my_class_instance.greet('Apple')\n",
    "my_class_instance.greet('Apple Pie')"
   ]
  },
  {
   "cell_type": "markdown",
   "metadata": {},
   "source": [
    "The power of objects is in their ability to store data, and data is stored inside objects using **attributes**.\n",
    "\n",
    "You can think of **attributes** like special variables that belong to a particular class. Attributes let us store specific values about each instance of our class."
   ]
  },
  {
   "cell_type": "markdown",
   "metadata": {},
   "source": [
    "When we instantiate an object, most of the time we specify the data that we want to store inside that object. We define what is done with any arguments provided at instantiation using the **init method**.\n",
    "\n",
    "The **init method** — also called a constructor — is a special method that runs when an instance is created so we can perform any tasks to set up the instance.\n",
    "\n",
    "The **init method** has a special name that starts and ends with two underscores: `__init__()`."
   ]
  },
  {
   "cell_type": "code",
   "execution_count": 55,
   "metadata": {},
   "outputs": [
    {
     "name": "stdout",
     "output_type": "stream",
     "text": [
      "Hello!\n"
     ]
    }
   ],
   "source": [
    "class MyClass():\n",
    "    def __init__(self, string):\n",
    "        print(string)\n",
    "        \n",
    "my_class_instance = MyClass('Hello!')"
   ]
  },
  {
   "cell_type": "markdown",
   "metadata": {},
   "source": [
    "Let's walk through how it works:\n",
    "\n",
    "    - We defined the `__init__()` method inside our class as accepting two arguments: self and string.    \n",
    "    - Inside the `__init__()` method, we called the print() function on the string argument.\n",
    "    - When we instantiated mc — our MyClass object — we passed \"Hola!\" as an argument. The init function ran immediately, displaying the text \"Hola!\"\n",
    "    \n",
    "It's unusual to use print() inside an init method, but it helps us understand that the method has access to any arguments passed when we instantiate an object.    "
   ]
  },
  {
   "cell_type": "code",
   "execution_count": 56,
   "metadata": {},
   "outputs": [],
   "source": [
    "class MyClass():\n",
    "    def __init__(self, string):\n",
    "        self.my_attribute = string\n",
    "        \n",
    "my_class_instance = MyClass('Hello!')"
   ]
  },
  {
   "cell_type": "markdown",
   "metadata": {},
   "source": [
    "When we instantiate our new object, Python calls the init method, passing in the object:\n",
    "\n",
    "```my_class_instance = MyClass('Hello!')```\n",
    "\n",
    "         is really\n",
    "             \n",
    "```MyClass.__init__(my_class_instance, 'Hello!')```         "
   ]
  },
  {
   "cell_type": "markdown",
   "metadata": {},
   "source": [
    "Our code didn't result in any output, but now we have stored \"Hello!\" in the attribute `my_attribute` inside our object. Like methods, attributes are accessed using dot notation, but attributes don't have parentheses like methods do. Let's use dot notation to access the attribute:"
   ]
  },
  {
   "cell_type": "code",
   "execution_count": 57,
   "metadata": {},
   "outputs": [
    {
     "name": "stdout",
     "output_type": "stream",
     "text": [
      "Hello!\n"
     ]
    }
   ],
   "source": [
    "print(my_class_instance.my_attribute)"
   ]
  },
  {
   "cell_type": "markdown",
   "metadata": {},
   "source": [
    "                Purpose        |  Similar To | Example Syntax\n",
    "    Attribute   Stores Data       Variable     object.attribute\n",
    "    -----------------------------------------------------------------\n",
    "    Method      Performs Action   Function     object.method()"
   ]
  },
  {
   "cell_type": "code",
   "execution_count": null,
   "metadata": {},
   "outputs": [],
   "source": []
  }
 ],
 "metadata": {
  "kernelspec": {
   "display_name": "Python 3",
   "language": "python",
   "name": "python3"
  },
  "language_info": {
   "codemirror_mode": {
    "name": "ipython",
    "version": 3
   },
   "file_extension": ".py",
   "mimetype": "text/x-python",
   "name": "python",
   "nbconvert_exporter": "python",
   "pygments_lexer": "ipython3",
   "version": "3.7.3"
  },
  "toc": {
   "base_numbering": 1,
   "nav_menu": {},
   "number_sections": true,
   "sideBar": true,
   "skip_h1_title": false,
   "title_cell": "Table of Contents",
   "title_sidebar": "Contents",
   "toc_cell": false,
   "toc_position": {},
   "toc_section_display": true,
   "toc_window_display": false
  }
 },
 "nbformat": 4,
 "nbformat_minor": 2
}
