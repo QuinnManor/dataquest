{
 "cells": [
  {
   "cell_type": "markdown",
   "metadata": {
    "toc": true
   },
   "source": [
    "<h1>Table of Contents<span class=\"tocSkip\"></span></h1>\n",
    "<div class=\"toc\"><ul class=\"toc-item\"><li><ul class=\"toc-item\"><li><ul class=\"toc-item\"><li><span><a href=\"#ERRORS\" data-toc-modified-id=\"ERRORS-0.0.1\"><span class=\"toc-item-num\">0.0.1&nbsp;&nbsp;</span>ERRORS</a></span></li></ul></li></ul></li><li><span><a href=\"#Cleaning-Column-Headers\" data-toc-modified-id=\"Cleaning-Column-Headers-1\"><span class=\"toc-item-num\">1&nbsp;&nbsp;</span>Cleaning Column Headers</a></span></li><li><span><a href=\"#Cleaning-Row-Values\" data-toc-modified-id=\"Cleaning-Row-Values-2\"><span class=\"toc-item-num\">2&nbsp;&nbsp;</span>Cleaning Row Values</a></span><ul class=\"toc-item\"><li><span><a href=\"#Text-to-Numeric-Data\" data-toc-modified-id=\"Text-to-Numeric-Data-2.1\"><span class=\"toc-item-num\">2.1&nbsp;&nbsp;</span>Text to Numeric Data</a></span></li><li><span><a href=\"#Null-Values\" data-toc-modified-id=\"Null-Values-2.2\"><span class=\"toc-item-num\">2.2&nbsp;&nbsp;</span>Null Values</a></span></li></ul></li></ul></div>"
   ]
  },
  {
   "cell_type": "markdown",
   "metadata": {},
   "source": [
    "#### ERRORS"
   ]
  },
  {
   "cell_type": "markdown",
   "metadata": {},
   "source": [
    "`UnicodeDecodeError                        Traceback (most recent call last)\n",
    "pandas/_libs/parsers.pyx in pandas._libs.parsers.TextReader._convert_tokens()\n",
    "\n",
    "pandas/_libs/parsers.pyx in pandas._libs.parsers.TextReader._convert_with_dtype()\n",
    "\n",
    "pandas/_libs/parsers.pyx in pandas._libs.parsers.TextReader._string_convert()\n",
    "\n",
    "pandas/_libs/parsers.pyx in pandas._libs.parsers._string_box_utf8()\n",
    "\n",
    "UnicodeDecodeError: 'utf-8' codec can't decode byte 0xe9 in position 4: invalid continuation byte`"
   ]
  },
  {
   "cell_type": "markdown",
   "metadata": {},
   "source": [
    "Something we can do if our file has an unknown encoding is to try the most common encodings:\n",
    "\n",
    "UTF-8\n",
    "\n",
    "Latin-1 (also known as ISO-8895-1)\n",
    "\n",
    "Windows-1251"
   ]
  },
  {
   "cell_type": "markdown",
   "metadata": {},
   "source": [
    "The `pandas.read_csv()` function has an `encoding` argument we can use to specify an encoding:\n",
    "\n",
    "`df = pd.read_csv(\"filename.csv\", encoding=\"some_encoding\")`\n",
    "\n",
    "Since the pandas.read_csv() function already tried to read in the file with UTF-8 and failed, we know the file's not encoded with that format. Let's try the next most popular encoding in the exercise."
   ]
  },
  {
   "cell_type": "markdown",
   "metadata": {},
   "source": [
    "## Cleaning Column Headers\n",
    "We can access the column axis of a dataframe using the `DataFrame.columns` attribute. This returns an index object — a special type of NumPy ndarray — with the labels of each column:\n",
    "\n",
    "Not only can we use the attribute to view the column labels, we can also assign new labels to the attribute:\n",
    "\n",
    "`df = df.copy()`\n",
    "\n",
    "`df.columns = ['A', 'B', 'C', 'D', 'E',\n",
    "               'F', 'G', 'H', 'I', 'J',\n",
    "               'K', 'L', 'M']`\n",
    "               \n",
    "`new_columns = []\n",
    "for c in df.columns:\n",
    "    new_columns.append(c.strip())\n",
    "df.columns = new_columns`\n",
    "\n",
    "However, the column labels still have a variety of upper and lowercase letters, as well as parentheses, which will make them harder to work with and read. Let's finish cleaning our column labels by:\n",
    "\n",
    "- Replacing spaces with underscores.\n",
    "\n",
    "- Removing special characters.\n",
    "\n",
    "- Making all labels lowercase.\n",
    "\n",
    "- Shortening any long column names.\n",
    "\n",
    "`def clean_col(col):\n",
    "    col = col.strip()\n",
    "    col = col.replace(\"(\",\"\")\n",
    "    col = col.replace(\")\",\"\")\n",
    "    col = col.lower()\n",
    "    return col`\n",
    "\n",
    "`new_columns = []\n",
    "for c in df.columns:\n",
    "    clean_c = clean_col(c)\n",
    "    new_columns.append(clean_c)`\n",
    "\n",
    "`df.columns = new_columns\n",
    "print(df.columns)`\n",
    "\n",
    "Defined a function, which:\n",
    "\n",
    "- Used the `str.strip()` method to remove whitespace from the start and end of the string.\n",
    "\n",
    "- Used the `str.replace()` method to remove parentheses from the string.\n",
    "\n",
    "- Used the `str.lower()` method to make the string lowercase.\n",
    "\n",
    "- Returns the modified string."
   ]
  },
  {
   "cell_type": "markdown",
   "metadata": {},
   "source": [
    "## Cleaning Row Values\n",
    "### Text to Numeric Data\n",
    "\n",
    "**Process**\n",
    "\n",
    "Explore Data --> Identify Patterns/Special Cases --> Remove non-digit chars --> Convert to Numeric --> Rename (if required)\n",
    "\n",
    "*Explore Data* - view all of the unique values `Series.unique()`\n",
    "\n",
    "*Identify Patterns/Special Cases* - Are the values consistent? Special cases? \n",
    "\n",
    "*Remove non-digit chars* - before converting to a numeric value, we must remove any non-numeric characters:\n",
    "- `df.col.str.replace('char_to_replace', 'new_character')`\n",
    "\n",
    "*Convert to Numeric (CAST)* - convert column values to numeric dtype:\n",
    "- `df.col.astype(float)` (float, int, 'Int614', 'object', 'category')\n",
    "\n",
    "*Rename (if required)* - now, rename the column to reflect the new values\n",
    "- `df.rename({'col': 'new_col'}, axis=1, inplace=True)`\n",
    "    - `axis=1` ---> rename labels in the column axis\n",
    "    - `inplace=True` ---> Assign the result back to the dataframe"
   ]
  },
  {
   "cell_type": "markdown",
   "metadata": {},
   "source": [
    "The pandas library contains dozens of vectorized string methods we can use to manipulate text data, many of which perform the same operations as Python string methods. Most vectorized string methods are available using the `Series.str` accessor, which means we can access them by adding str between the series name and the method name"
   ]
  },
  {
   "cell_type": "markdown",
   "metadata": {},
   "source": [
    "`df.col.str.split()`:\n",
    "\n",
    "This method splits each string on the whitespace; the result is a series containing individual Python lists. Also note that we used parentheses to method chain over multiple lines, which makes our code easier to read."
   ]
  },
  {
   "cell_type": "markdown",
   "metadata": {},
   "source": [
    "If your data has been scraped from a webpage or if there was manual data entry involved at some point, you may end up with inconsistent values.\n",
    "\n",
    "One way we can fix this is with the `Series.map()` method. The `Series.map()` method is ideal when we want to change multiple values in a column, but we'll use it now as an opportunity to learn how the method works.\n",
    "\n",
    "The most common way to use Series.map() is with a dictionary. Let's look at an example using a series of misspelled fruit:\n",
    "\n",
    "\n",
    "`0 pair\n",
    "1 oranje\n",
    "2 banannna\n",
    "`\n",
    "\n",
    "`corrections = {\n",
    "    \"pair\": \"pear\",\n",
    "    \"oranje\": \"orange\",\n",
    "    \"banannna\": \"banana\"\n",
    "}`\n",
    "\n",
    "`s = s.map(corrections)`\n",
    "\n",
    "`0 pear\n",
    "1 orange\n",
    "2 banana\n",
    "`\n",
    "\n",
    "We can see that each of our corrections were made across our series. One important thing to remember with `Series.map()` is that if a value from your series doesn't exist as a key in your dictionary, it will convert that value to `NaN`. Let's see what happens when we run map one more time:\n",
    "\n",
    "`s = s.map(corrections)`\n",
    "\n",
    "`0 NaN\n",
    "1 NaN\n",
    "2 NaN\n",
    "`\n",
    "\n",
    "\n",
    "`df.col = df.col.map(mapping_dict)`"
   ]
  },
  {
   "cell_type": "markdown",
   "metadata": {},
   "source": [
    "### Null Values\n",
    "In previous missions, we've talked briefly about missing values and how both NumPy and pandas represent these as null values. In pandas, null values will be indicated by either `NaN` or `None`.\n",
    "\n",
    "Recall that we can use the DataFrame.isnull() method to identify missing values, which returns a boolean dataframe. We can then use the DataFrame.sum() method to give us a count of the True values for each column:\n",
    "\n",
    "`print(df.isnull().sum())`\n",
    "\n",
    "There are a few options for handling missing values:\n",
    "\n",
    "- Remove any rows that have missing values.\n",
    "- Remove any columns that have missing values.\n",
    "- Fill the missing values with some other value.\n",
    "- Leave the missing values as is.\n",
    "\n",
    "The first two options are often used to prepare data for machine learning algorithms, which are unable to be used with data that includes null values. We can use the `DataFrame.dropna()` method to remove or drop rows and columns with null values.\n",
    "\n",
    "The `DataFrame.dropna()` method accepts an `axis` parameter, which indicates whether we want to drop along the column or index axis. Let's look at an example:\n",
    "\n",
    "- `df.dropna()` OR `df.dropna(axis=0)` ---> Drops ROWS with null values\n",
    "- `df.dropna(axis=1)` ---> Drops Columns Containing Null Values\n",
    "\n",
    "- `print(df[col].value_counts(dropna=False))` - Keeps null values as part of calculation"
   ]
  },
  {
   "cell_type": "code",
   "execution_count": null,
   "metadata": {},
   "outputs": [],
   "source": []
  }
 ],
 "metadata": {
  "hide_input": false,
  "kernelspec": {
   "display_name": "Python 3",
   "language": "python",
   "name": "python3"
  },
  "language_info": {
   "codemirror_mode": {
    "name": "ipython",
    "version": 3
   },
   "file_extension": ".py",
   "mimetype": "text/x-python",
   "name": "python",
   "nbconvert_exporter": "python",
   "pygments_lexer": "ipython3",
   "version": "3.7.3"
  },
  "toc": {
   "base_numbering": 1,
   "nav_menu": {},
   "number_sections": true,
   "sideBar": true,
   "skip_h1_title": false,
   "title_cell": "Table of Contents",
   "title_sidebar": "Contents",
   "toc_cell": true,
   "toc_position": {},
   "toc_section_display": true,
   "toc_window_display": true
  }
 },
 "nbformat": 4,
 "nbformat_minor": 2
}
