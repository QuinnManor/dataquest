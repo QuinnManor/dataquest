{
 "cells": [
  {
   "cell_type": "markdown",
   "metadata": {
    "toc": true
   },
   "source": [
    "<h1>Table of Contents<span class=\"tocSkip\"></span></h1>\n",
    "<div class=\"toc\"><ul class=\"toc-item\"><li><span><a href=\"#Application-Program-Interface-(APIs)\" data-toc-modified-id=\"Application-Program-Interface-(APIs)-1\"><span class=\"toc-item-num\">1&nbsp;&nbsp;</span>Application Program Interface (APIs)</a></span><ul class=\"toc-item\"><li><span><a href=\"#requests-library\" data-toc-modified-id=\"requests-library-1.1\"><span class=\"toc-item-num\">1.1&nbsp;&nbsp;</span><code>requests</code> library</a></span><ul class=\"toc-item\"><li><span><a href=\"#API-Endpoints\" data-toc-modified-id=\"API-Endpoints-1.1.1\"><span class=\"toc-item-num\">1.1.1&nbsp;&nbsp;</span>API Endpoints</a></span></li><li><span><a href=\"#GET-requests\" data-toc-modified-id=\"GET-requests-1.1.2\"><span class=\"toc-item-num\">1.1.2&nbsp;&nbsp;</span>GET requests</a></span><ul class=\"toc-item\"><li><span><a href=\"#GET-requests-with-Parameters\" data-toc-modified-id=\"GET-requests-with-Parameters-1.1.2.1\"><span class=\"toc-item-num\">1.1.2.1&nbsp;&nbsp;</span>GET requests with Parameters</a></span></li><li><span><a href=\"#Status-Code\" data-toc-modified-id=\"Status-Code-1.1.2.2\"><span class=\"toc-item-num\">1.1.2.2&nbsp;&nbsp;</span>Status Code</a></span></li></ul></li></ul></li></ul></li><li><span><a href=\"#JSON\" data-toc-modified-id=\"JSON-2\"><span class=\"toc-item-num\">2&nbsp;&nbsp;</span>JSON</a></span><ul class=\"toc-item\"><li><span><a href=\"#JSON-Library\" data-toc-modified-id=\"JSON-Library-2.1\"><span class=\"toc-item-num\">2.1&nbsp;&nbsp;</span>JSON Library</a></span></li></ul></li><li><span><a href=\"#Metadata\" data-toc-modified-id=\"Metadata-3\"><span class=\"toc-item-num\">3&nbsp;&nbsp;</span>Metadata</a></span></li></ul></div>"
   ]
  },
  {
   "cell_type": "markdown",
   "metadata": {},
   "source": [
    "# Application Program Interface (APIs)\n",
    "A set of methods and rools that allow different applications to interact with each other. Use APIs to query and retrieve data dynamically, quickly, and effectively.\n",
    "\n",
    "\n",
    "APIs save us time and effort, rather than doing a lot of computation yourselves.\n",
    "\n",
    "\n",
    "Organizations host APIs on Web Servers. When you go to `www.twitter.com` in your address bar, your computer is asking the server to return the twitter web page.\n",
    "\n",
    "APIs work in the same manner, except for asking for a Web Page, you're asking for data (which mostly returns a `JSON` format).\n",
    "\n",
    "Make API request to the Web server you want to get data from. In Python, we use the [requests library](https://requests.readthedocs.io/en/master/)"
   ]
  },
  {
   "cell_type": "markdown",
   "metadata": {},
   "source": [
    "## `requests` library\n",
    "\n",
    "### API Endpoints\n",
    "APIs have several `endpoints`, an endpoint is a server route for retrieving specific data from an API. For example:\n",
    "\n",
    "- `/comments` - reddit API to retrieve info about comments\n",
    "- `/users` - endpoint to retrieve info about users"
   ]
  },
  {
   "cell_type": "markdown",
   "metadata": {},
   "source": [
    "### GET requests\n",
    "There are many different types of requests. The most commonn is the *GET* request, which you use to retrieve data:\n",
    "\n",
    "```\n",
    "# Make a get request to get the latest position of the ISS from the OpenNotify API.\n",
    "response = requests.get(\"http://api.open-notify.org/iss-now.json\")\n",
    "```\n",
    "#### GET requests with Parameters\n",
    "```\n",
    "# Set up the parameters we want to pass to the API.\n",
    "# This is the latitude and longitude of New York City.\n",
    "parameters = {\"lat\": 37.78, \"lon\": -122.41}\n",
    "\n",
    "# Make a get request with the parameters.\n",
    "response = requests.get(\"http://api.open-notify.org/iss-pass.json\", params=parameters)\n",
    "\n",
    "# Print the content of the response (the data the server returned)\n",
    "print(response.content)\n",
    "\n",
    "# This gets the same data as the command above\n",
    "response = requests.get(\"http://api.open-notify.org/iss-pass.json?lat=40.71&lon=-74\")\n",
    "print(response.content)\n",
    "```\n",
    "#### Status Code\n",
    "Web servers return status codes every time they receive an API request. A status code provides information about what happened with a request. Here are some codes that are relevant to GET requests:\n",
    "\n",
    "- 200 - Server returned a result\n",
    "- 301 - Server is redirecting you to a different endpoint\n",
    "- 401 - You're not authenticated, you failed to send the right credentials to access the API\n",
    "- 400 - Bad request\n",
    "- 403 - Resource is forbidden\n",
    "- 404 - Server didn't find the resources you're trying to access\n",
    "\n",
    "```\n",
    "# Get the status code of the API endpoint to know whether it succeeded or failed\n",
    "status_code = requests.status_code\n",
    "```"
   ]
  },
  {
   "cell_type": "markdown",
   "metadata": {},
   "source": [
    "# JSON\n",
    "Strings are the way we pass information back and forth through APIs, but it's hard to get the information we want out of them. How do we know how to decode the string we receive and work with it in Python?\n",
    "\n",
    "Luckily, there's a format we call JSON. We mentioned it earlier in the mission. This format encodes data structures like lists and dictionaries as strings to ensure that machines can read them easily. JSON is the primary format for sending and receiving data through APIs.\n",
    "\n",
    "Python offers great support for JSON through its `json` library. We can convert lists and dictionaries to JSON, and vice versa. Our ISS Pass data, for example, is a dictionary encoded as a string in JSON format.\n",
    "\n",
    "## JSON Library\n",
    "The JSON library has two main methods:\n",
    "\n",
    "- **dumps -- Takes in a Python object, and converts it to a string**\n",
    "- **loads -- Takes a JSON string, and converts it to a Python object**\n",
    "\n",
    "```\n",
    "# Make a list of fast food chains.\n",
    "best_food_chains = [\"Taco Bell\", \"Shake Shack\", \"Chipotle\"]\n",
    "print(type(best_food_chains))\n",
    "\n",
    "# Import the JSON library.\n",
    "import json\n",
    "\n",
    "# Use json.dumps to convert best_food_chains to a string.\n",
    "best_food_chains_string = json.dumps(best_food_chains)\n",
    "print(type(best_food_chains_string))\n",
    "\n",
    "# Convert best_food_chains_string back to a list.\n",
    "print(type(json.loads(best_food_chains_string)))\n",
    "\n",
    "# Make a dictionary\n",
    "fast_food_franchise = {\n",
    "    \"Subway\": 24722,\n",
    "    \"McDonalds\": 14098,\n",
    "    \"Starbucks\": 10821,\n",
    "    \"Pizza Hut\": 7600\n",
    "}\n",
    "\n",
    "# We can also dump a dictionary to a string and load it.\n",
    "fast_food_franchise_string = json.dumps(fast_food_franchise)\n",
    "print(type(fast_food_franchise_string))\n",
    "```\n",
    "\n",
    "**WE can use the `.json()` method on the response to convert the content to an object off-rip**\n",
    "\n",
    "```\n",
    "# Make the same request we did two screens ago.\n",
    "parameters = {\"lat\": 37.78, \"lon\": -122.41}\n",
    "response = requests.get(\"http://api.open-notify.org/iss-pass.json\", params=parameters)\n",
    "\n",
    "# Get the response data as a Python object.  Verify that it's a dictionary.\n",
    "json_data = response.json()\n",
    "\n",
    "```"
   ]
  },
  {
   "cell_type": "markdown",
   "metadata": {},
   "source": [
    "# Metadata\n",
    "The server sends more than a status code and the data when it generates a response. It also sends metadata containing information on how it generated the data and how to decode it. This information appears in the *response headers*. We can access it using the `.headers` property that responses have.\n",
    "\n",
    "Headers will appear as a dict. `content-type` int he headers is the most important key (for now). But it tells us the format of the response and how to decode it.\n",
    "\n",
    "```\n",
    "import requests\n",
    "\n",
    "response = request.get(`http....whatever.come')\n",
    "\n",
    "headers = response.headers\n",
    "```"
   ]
  }
 ],
 "metadata": {
  "hide_input": false,
  "kernelspec": {
   "display_name": "Python 3",
   "language": "python",
   "name": "python3"
  },
  "language_info": {
   "codemirror_mode": {
    "name": "ipython",
    "version": 3
   },
   "file_extension": ".py",
   "mimetype": "text/x-python",
   "name": "python",
   "nbconvert_exporter": "python",
   "pygments_lexer": "ipython3",
   "version": "3.7.0"
  },
  "toc": {
   "base_numbering": 1,
   "nav_menu": {},
   "number_sections": true,
   "sideBar": true,
   "skip_h1_title": false,
   "title_cell": "Table of Contents",
   "title_sidebar": "Contents",
   "toc_cell": true,
   "toc_position": {
    "height": "calc(100% - 180px)",
    "left": "10px",
    "top": "150px",
    "width": "336px"
   },
   "toc_section_display": true,
   "toc_window_display": true
  },
  "varInspector": {
   "cols": {
    "lenName": 16,
    "lenType": 16,
    "lenVar": 40
   },
   "kernels_config": {
    "python": {
     "delete_cmd_postfix": "",
     "delete_cmd_prefix": "del ",
     "library": "var_list.py",
     "varRefreshCmd": "print(var_dic_list())"
    },
    "r": {
     "delete_cmd_postfix": ") ",
     "delete_cmd_prefix": "rm(",
     "library": "var_list.r",
     "varRefreshCmd": "cat(var_dic_list()) "
    }
   },
   "types_to_exclude": [
    "module",
    "function",
    "builtin_function_or_method",
    "instance",
    "_Feature"
   ],
   "window_display": false
  }
 },
 "nbformat": 4,
 "nbformat_minor": 2
}
