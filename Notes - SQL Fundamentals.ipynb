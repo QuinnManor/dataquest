{
 "cells": [
  {
   "cell_type": "markdown",
   "metadata": {
    "toc": true
   },
   "source": [
    "<h1>Table of Contents<span class=\"tocSkip\"></span></h1>\n",
    "<div class=\"toc\"><ul class=\"toc-item\"><li><span><a href=\"#Reivewing-Pandas-Workflow\" data-toc-modified-id=\"Reivewing-Pandas-Workflow-1\"><span class=\"toc-item-num\">1&nbsp;&nbsp;</span>Reivewing Pandas Workflow</a></span></li><li><span><a href=\"#Databases\" data-toc-modified-id=\"Databases-2\"><span class=\"toc-item-num\">2&nbsp;&nbsp;</span>Databases</a></span><ul class=\"toc-item\"><li><span><a href=\"#SQL\" data-toc-modified-id=\"SQL-2.1\"><span class=\"toc-item-num\">2.1&nbsp;&nbsp;</span>SQL</a></span></li><li><span><a href=\"#Databases\" data-toc-modified-id=\"Databases-2.2\"><span class=\"toc-item-num\">2.2&nbsp;&nbsp;</span>Databases</a></span></li><li><span><a href=\"#WHERE\" data-toc-modified-id=\"WHERE-2.3\"><span class=\"toc-item-num\">2.3&nbsp;&nbsp;</span>WHERE</a></span><ul class=\"toc-item\"><li><span><a href=\"#AND\" data-toc-modified-id=\"AND-2.3.1\"><span class=\"toc-item-num\">2.3.1&nbsp;&nbsp;</span><code>AND</code></a></span></li><li><span><a href=\"#OR\" data-toc-modified-id=\"OR-2.3.2\"><span class=\"toc-item-num\">2.3.2&nbsp;&nbsp;</span><code>OR</code></a></span></li><li><span><a href=\"#ORDER-BY\" data-toc-modified-id=\"ORDER-BY-2.3.3\"><span class=\"toc-item-num\">2.3.3&nbsp;&nbsp;</span><code>ORDER BY</code></a></span></li></ul></li><li><span><a href=\"#Notes\" data-toc-modified-id=\"Notes-2.4\"><span class=\"toc-item-num\">2.4&nbsp;&nbsp;</span>Notes</a></span></li></ul></li></ul></div>"
   ]
  },
  {
   "cell_type": "markdown",
   "metadata": {},
   "source": [
    "# Reivewing Pandas Workflow"
   ]
  },
  {
   "cell_type": "markdown",
   "metadata": {},
   "source": [
    "The pandas workflow works well when:\n",
    "\n",
    "- the data fits in memory\n",
    "- the data is relatively static\n",
    "- only a single person is accessing that data at a time\n",
    "- security isn't overly important\n",
    "\n",
    "A **Database** is a much better solution when:\n",
    "\n",
    "- the data changes frequently\n",
    "- requires shared access\n",
    "- doesn't fit in memory\n",
    "- security is critical"
   ]
  },
  {
   "cell_type": "markdown",
   "metadata": {},
   "source": [
    "# Databases\n",
    "\n",
    "**A database is a data representation that lives on disk that can be queries, accessed, and updated without using much memory** We interact with databases using a database management system or *DBMS* \n",
    "\n",
    "## SQL\n",
    "To interact wiht a database, we use a language called **SQL** (structured query language). We express SQL queries as requests to the DBMS to display the results of that request.\n",
    "\n",
    "For example:\n",
    "\n",
    "- the SQL query: `SELECT * FROM salaries`\n",
    "- asks the DBMS to run that query and display anything from the `salaries` table"
   ]
  },
  {
   "cell_type": "markdown",
   "metadata": {},
   "source": [
    "## Databases\n",
    "Each `database` can contain 1 or more tables. When exploring the tables within a database limit the number of results so you're able to get a feel for the columns, types of values, and a few samples of data.\n",
    "\n",
    "`SELECT * FROM recent_grads LIMIT 5`\n",
    "\n",
    "The above query:\n",
    "- `SELECT *` determines what columns we want `*` meaning all of them\n",
    "- `FROM recent_grads` determines the table we want to pull data from\n",
    "- `LIMIT 5` means only (or limit) display 5 rows"
   ]
  },
  {
   "cell_type": "markdown",
   "metadata": {},
   "source": [
    "## WHERE\n",
    "\n",
    "`SELECT * FROM recent_grads\n",
    "WHERE ShareWomen >= 0.5\n",
    "LIMIT 5`\n",
    "\n",
    "The above query:\n",
    "- `SELECT *` determines what columns we want `*` meaning all of them\n",
    "- `FROM recent_grads` determines the table we want to pull data from\n",
    "- `WHERE` determines the specific rows we want. In this case, we only want rows that have 50% or higher women majors\n",
    "- `LIMIT 5` means only (or limit) display 5 rows\n",
    "\n",
    "`WHERE` filters rows by specific criteria. A simple `WHERE` statement requires 3 things:\n",
    "- The column to filter on\n",
    "- A compasison operator that specifies how we want to compare a value in that column\n",
    "- The value we want to compare each row value too\n",
    "\n",
    "### `AND`\n",
    "We can use `AND` to combine multiple filter criteria:\n",
    "\n",
    "`SELECT * FROM recent_grads\n",
    "WHERE major_category = 'art' AND sharewoman > 0.5`"
   ]
  },
  {
   "cell_type": "markdown",
   "metadata": {},
   "source": [
    "### `OR`\n",
    "We can use `OR` to combine multiple filter criteria and if the filter meets either condition, that result comes back:\n",
    "\n",
    "`SELECT * FROM recent_grads\n",
    "WHERE major_category = 'art' OR sharewoman > 0.5`"
   ]
  },
  {
   "cell_type": "markdown",
   "metadata": {},
   "source": [
    "### `ORDER BY`\n",
    "As the results of our queries get more complex and we want to control how our results are ordered, lets run it back with the `order by` my G. `order by` returns results in ascending order. If we want descending order, add `DESC` to the end of it.\n",
    "\n",
    "`SELECT * FROM recent_grads\n",
    "WHERE major_category = 'art' OR sharewoman > 0.5\n",
    "order by ShareWoman`\n",
    " \n",
    "OR DESC\n",
    " \n",
    "`SELECT * FROM recent_grads\n",
    "WHERE major_category = 'art' OR sharewoman > 0.5\n",
    "order by ShareWoman DESC`"
   ]
  },
  {
   "cell_type": "markdown",
   "metadata": {},
   "source": [
    "## Notes\n",
    "As the scale of data increases, engineers have maintained a SQL interface while swapping out database engines behind the scenes. This means that you can query using SQL, but the data is coming from systems like MySQL, HDFS, and more.\n",
    "\n",
    "SQLs build-in keywords are cas-INsensitive."
   ]
  }
 ],
 "metadata": {
  "hide_input": false,
  "kernelspec": {
   "display_name": "Python 3",
   "language": "python",
   "name": "python3"
  },
  "language_info": {
   "codemirror_mode": {
    "name": "ipython",
    "version": 3
   },
   "file_extension": ".py",
   "mimetype": "text/x-python",
   "name": "python",
   "nbconvert_exporter": "python",
   "pygments_lexer": "ipython3",
   "version": "3.7.3"
  },
  "toc": {
   "base_numbering": 1,
   "nav_menu": {},
   "number_sections": true,
   "sideBar": true,
   "skip_h1_title": false,
   "title_cell": "Table of Contents",
   "title_sidebar": "Contents",
   "toc_cell": true,
   "toc_position": {},
   "toc_section_display": true,
   "toc_window_display": true
  },
  "varInspector": {
   "cols": {
    "lenName": 16,
    "lenType": 16,
    "lenVar": 40
   },
   "kernels_config": {
    "python": {
     "delete_cmd_postfix": "",
     "delete_cmd_prefix": "del ",
     "library": "var_list.py",
     "varRefreshCmd": "print(var_dic_list())"
    },
    "r": {
     "delete_cmd_postfix": ") ",
     "delete_cmd_prefix": "rm(",
     "library": "var_list.r",
     "varRefreshCmd": "cat(var_dic_list()) "
    }
   },
   "types_to_exclude": [
    "module",
    "function",
    "builtin_function_or_method",
    "instance",
    "_Feature"
   ],
   "window_display": false
  }
 },
 "nbformat": 4,
 "nbformat_minor": 2
}
